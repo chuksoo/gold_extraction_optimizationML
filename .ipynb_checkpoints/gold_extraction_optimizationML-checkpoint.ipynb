{
 "cells": [
  {
   "cell_type": "markdown",
   "metadata": {},
   "source": [
    "# Optimizing gold extraction from mined ore using Machine Learning"
   ]
  },
  {
   "cell_type": "markdown",
   "metadata": {},
   "source": [
    "The Zyfra Group develops and implements industrial digital solutions to improve efficiency and safety of the mining, oil & gas, chemical industries. In this project, Zyfra has requested a prototype machine learning model to optimize production of gold from gold ore and eliminate unprofitable parameters. "
   ]
  },
  {
   "cell_type": "markdown",
   "metadata": {},
   "source": [
    "**Task Statement**\n",
    "\n",
    "Prepare a prototype of a machine learning model for Zyfra. The company develops efficiency solutions for heavy industry. The model should predict the amount of gold recovered from gold ore. You have the data on extraction and purification. The model will help to optimize the production and eliminate unprofitable parameters."
   ]
  },
  {
   "cell_type": "markdown",
   "metadata": {},
   "source": [
    "## Data description"
   ]
  },
  {
   "cell_type": "markdown",
   "metadata": {},
   "source": [
    "**Technological process**\n",
    "\n",
    "- Rougher feed — raw material\n",
    "- Rougher additions (or reagent additions) — flotation reagents: Xanthate, Sulphate, Depressant\n",
    " + Xanthate — promoter or flotation activator;\n",
    " + Sulphate — sodium sulphide for this particular process;\n",
    " + Depressant — sodium silicate.\n",
    "- Rougher process — flotation\n",
    "- Rougher tails — product residues\n",
    "- Float banks — flotation unit\n",
    "- Cleaner process — purification\n",
    "- Rougher Au — rougher gold concentrate\n",
    "- Final Au — final gold concentrate\n",
    "\n",
    "**Parameters of stages**\n",
    "- air amount — volume of air\n",
    "- fluid levels\n",
    "- feed size — feed particle size\n",
    "- feed rate"
   ]
  },
  {
   "cell_type": "markdown",
   "metadata": {},
   "source": [
    "The stages of the technological process for gold extraction from ore is shown"
   ]
  },
  {
   "cell_type": "code",
   "execution_count": 1,
   "metadata": {},
   "outputs": [
    {
     "data": {
      "text/html": [
       "<img src=\"https://pythondance.s3.us-west-2.amazonaws.com/Gold_extraction_process.JPG\" width=\"600\" height=\"300\"/>"
      ],
      "text/plain": [
       "<IPython.core.display.Image object>"
      ]
     },
     "execution_count": 1,
     "metadata": {},
     "output_type": "execute_result"
    }
   ],
   "source": [
    "from IPython.display import Image\n",
    "Image(url='https://pythondance.s3.us-west-2.amazonaws.com/Gold_extraction_process.JPG', width = 600, height = 300)"
   ]
  },
  {
   "cell_type": "markdown",
   "metadata": {},
   "source": [
    "## Objectives\n",
    "\n",
    "The objectives of this project is to:\n",
    "- Simulate the gold recovery process from gold ore\n",
    "- Develop a model to predict the amount of gold recovered and optimize gold production\n",
    "- Predict final sMAPE metric "
   ]
  },
  {
   "cell_type": "markdown",
   "metadata": {},
   "source": [
    "<hr>\n",
    "\n",
    " # Table of contents\n",
    "\n",
    "<div class=\"alert alert-block alert-info\" style=\"margin-top: 20px\">\n",
    "    <ol>\n",
    "        <li><a href=\"#open_the_data\">Open the data file and study the general information</a></li>\n",
    "        <li><a href=\"#analyze_the_data\">Analyze the data</a></li>\n",
    "        <li><a href=\"#build_the_model\">Build the model</a></li>\n",
    "        <li><a href=\"#overall_conclusion\">Overall conclusion</a></li>\n",
    "    </ol>\n",
    "</div>\n",
    "<br>\n",
    "<hr>"
   ]
  },
  {
   "cell_type": "markdown",
   "metadata": {},
   "source": [
    "<div id=\"open_the_data\">\n",
    "    <h2>Open the data file and study the general information</h2> \n",
    "</div>"
   ]
  },
  {
   "cell_type": "markdown",
   "metadata": {},
   "source": [
    "We require the following libraries: *pandas* and *numpy* for data preprocessing and manipulation, *Scikit-Learn* for building our learning algorithms"
   ]
  },
  {
   "cell_type": "code",
   "execution_count": null,
   "metadata": {},
   "outputs": [],
   "source": [
    "# import pandas and numpy for data preprocessing and manipulation\n",
    "import numpy as np\n",
    "import pandas as pd\n",
    "from scipy import stats as st\n",
    "\n",
    "# import datetime for date conversion\n",
    "import datetime\n",
    "from datetime import datetime \n",
    "\n",
    "# seaborn and matplotlib for visualization\n",
    "import seaborn as sns\n",
    "import matplotlib.pyplot as plt\n",
    "%matplotlib inline\n",
    "\n",
    "# import train_test_split to split data\n",
    "from sklearn.model_selection import train_test_split\n",
    "from sklearn.preprocessing import StandardScaler\n",
    "pd.options.mode.chained_assignment = None # to avoid SettingWithCopyWarning after scaling\n",
    "\n",
    "# import machine learning module from the sklearn library\n",
    "from sklearn.linear_model import LinearRegression # import linear regression \n",
    "\n",
    "# import regression metrics\n",
    "from sklearn.metrics import explained_variance_score \n",
    "from sklearn.metrics import mean_squared_error, mean_absolute_error, r2_score\n",
    "\n",
    "# import warnings\n",
    "import warnings\n",
    "warnings.simplefilter(action='ignore', category=FutureWarning)\n",
    "\n",
    "print('Project libraries has been successfully been imported!')"
   ]
  },
  {
   "cell_type": "code",
   "execution_count": null,
   "metadata": {},
   "outputs": [],
   "source": [
    "# read the data\n",
    "try:\n",
    "    gold_recovery_train = pd.read_csv('https://code.s3.yandex.net/datasets/gold_recovery_train.csv')\n",
    "    gold_recovery_test = pd.read_csv('https://code.s3.yandex.net/datasets/gold_recovery_test.csv')\n",
    "    gold_recovery_full = pd.read_csv('https://code.s3.yandex.net/datasets/gold_recovery_full.csv')\n",
    "except:\n",
    "    gold_recovery_train = pd.read_csv('C:/Users/hotty/Desktop/Practicum by Yandex/Projects/Integrated Project 2/gold_recovery_train.csv')\n",
    "    gold_recovery_test = pd.read_csv('C:/Users/hotty/Desktop/Practicum by Yandex/Projects/Integrated Project 2/gold_recovery_test.csv')\n",
    "    gold_recovery_full = pd.read_csv('C:/Users/hotty/Desktop/Practicum by Yandex/Projects/Integrated Project 2/gold_recovery_full.csv')\n",
    "print('Data has been read correctly!')"
   ]
  },
  {
   "cell_type": "code",
   "execution_count": null,
   "metadata": {},
   "outputs": [],
   "source": [
    "# function to determine if columns in file have null values\n",
    "def get_percent_of_na(df, num):\n",
    "    count = 0\n",
    "    df = df.copy()\n",
    "    s = (df.isna().sum() / df.shape[0])\n",
    "    for column, percent in zip(s.index, s.values):\n",
    "        num_of_nulls = df[column].isna().sum()\n",
    "        if num_of_nulls == 0:\n",
    "            continue\n",
    "        else:\n",
    "            count += 1\n",
    "        print('Column {} has {:.{}%} percent of Nulls, and {} of nulls'.format(column, percent, num, num_of_nulls))\n",
    "    if count != 0:\n",
    "        print(\"\\033[1m\" + 'There are {} columns with NA.'.format(count) + \"\\033[0m\")\n",
    "    else:\n",
    "        print()\n",
    "        print(\"\\033[1m\" + 'There are no columns with NA.' + \"\\033[0m\")\n",
    "        \n",
    "# function to display general information about the dataset\n",
    "def get_info(df):\n",
    "    \"\"\"\n",
    "    This function uses the head(), info(), describe(), shape() and duplicated() \n",
    "    methods to display the general information about the dataset.\n",
    "    \"\"\"\n",
    "    print(\"\\033[1m\" + '-'*100 + \"\\033[0m\")\n",
    "    print('Head:')\n",
    "    print()\n",
    "    display(df.head())\n",
    "    print('-'*100)\n",
    "    print('Info:')\n",
    "    print()\n",
    "    display(df.info())\n",
    "    print('-'*100)\n",
    "    print('Describe:')\n",
    "    print()\n",
    "    display(df.describe())\n",
    "    print('-'*100)\n",
    "    display(df.describe(include='object'))\n",
    "    print()\n",
    "    print('Columns with nulls:')\n",
    "    display(get_percent_of_na(df, 4))  # check this out\n",
    "    print('-'*100)\n",
    "    print('Shape:')\n",
    "    print(df.shape)\n",
    "    print('-'*100)\n",
    "    print('Duplicated:')\n",
    "    print(\"\\033[1m\" + 'We have {} duplicated rows.\\n'.format(df.duplicated().sum()) + \"\\033[0m\")\n",
    "    print()"
   ]
  },
  {
   "cell_type": "code",
   "execution_count": null,
   "metadata": {},
   "outputs": [],
   "source": [
    "# study the general information about the dataset \n",
    "print('General information about the dataframe')\n",
    "get_info(gold_recovery_train)\n",
    "get_info(gold_recovery_test)\n",
    "get_info(gold_recovery_full)"
   ]
  },
  {
   "cell_type": "markdown",
   "metadata": {},
   "source": [
    "**Conclusion**\n",
    "\n",
    "By looking at the data, we observed that:\n",
    "- In the `gold_recovery_train.csv` dataset, we have 16,860 rows, 86 features, and 85 columns with NA's.\n",
    "- In the `gold_recovery_test.csv` dataset, we have 5,856 rows, 52 features, and 51 columns with NA's.\n",
    "- In the `gold_recovery_full.csv` dataset, we have 22,716 rows, 86 features, and 85 columns with NA's."
   ]
  },
  {
   "cell_type": "markdown",
   "metadata": {},
   "source": [
    "#### Calculate recovery and determine MAE between calculated recovery and feature values recovery"
   ]
  },
  {
   "cell_type": "markdown",
   "metadata": {},
   "source": [
    "Let check that recovery is calculated correctly. The recovery process is simulated using:\n",
    "\\begin{equation}\n",
    "    Recovery = \\frac{C * (F - T)}{F * (C - T)} * 100%\n",
    "\\end{equation}"
   ]
  },
  {
   "cell_type": "code",
   "execution_count": null,
   "metadata": {},
   "outputs": [],
   "source": [
    "# gold extraction data\n",
    "C = gold_recovery_train['rougher.output.concentrate_au']\n",
    "F = gold_recovery_train['rougher.input.feed_au']\n",
    "T = gold_recovery_train['rougher.output.tail_au']\n",
    "\n",
    "# recovery calculation\n",
    "calculated_recovery = (C * (F - T)) / (F * (C - T)) * 100\n",
    "calculated_recovery"
   ]
  },
  {
   "cell_type": "code",
   "execution_count": null,
   "metadata": {},
   "outputs": [],
   "source": [
    "# MAE calculation\n",
    "mae_calc = pd.DataFrame({'calculated_recovery': calculated_recovery, 'output_recovery': gold_recovery_train['rougher.output.recovery']}).dropna()\n",
    "mae = mean_absolute_error(mae_calc.calculated_recovery, mae_calc.output_recovery)\n",
    "print('The MAE score is: {:.2f}'.format(mae))"
   ]
  },
  {
   "cell_type": "code",
   "execution_count": null,
   "metadata": {},
   "outputs": [],
   "source": [
    "# check sample of calculated recovery and output recovery\n",
    "mae_calc.sample(5)"
   ]
  },
  {
   "cell_type": "markdown",
   "metadata": {},
   "source": [
    "**Conclusion**\n",
    "\n",
    "From the calculations done, we can see that the `calculated_recovery` and `rougher.output.recovery` have similar values. We also observed that the MAE score is 0.0. This shows that the calculated value from the simulated recovery process is similar to the `rougher.output.recovery`. "
   ]
  },
  {
   "cell_type": "markdown",
   "metadata": {},
   "source": [
    "#### Locate features not available in test set"
   ]
  },
  {
   "cell_type": "code",
   "execution_count": null,
   "metadata": {},
   "outputs": [],
   "source": [
    "# features not available in the test set\n",
    "features_diff = list(set(gold_recovery_train.columns).difference(gold_recovery_test.columns))\n",
    "features_diff"
   ]
  },
  {
   "cell_type": "markdown",
   "metadata": {},
   "source": [
    "**Conclusion**\n",
    "\n",
    "By checking for features not available in the test set, we can see that we have 34 features in the train set that are not available in the test set. The features not available in the test set include features containing the concentration of metals (Au, Ag, Pb). The parameters type are output - product parameters and calculation characteristics. "
   ]
  },
  {
   "cell_type": "markdown",
   "metadata": {},
   "source": [
    "#### Data Preprocessing"
   ]
  },
  {
   "cell_type": "markdown",
   "metadata": {},
   "source": [
    "In this section, we need to preprocess the data by converting the `date` datatype to datetime, filling in the missing values in the train, test and full dataset. For filling in the missing values, we would use the fill forward along the column axis."
   ]
  },
  {
   "cell_type": "code",
   "execution_count": null,
   "metadata": {},
   "outputs": [],
   "source": [
    "# function to calculate the percentage of missing values\n",
    "def missing_values_table(df):\n",
    "    \"\"\"\n",
    "    This function calculates the percentage of\n",
    "    missing values in the dataset\n",
    "    \"\"\"\n",
    "    # Total missing values\n",
    "    mis_val = df.isnull().sum()\n",
    "\n",
    "    # Percentage of missing values\n",
    "    mis_val_percent = 100 * df.isnull().sum() / len(df)\n",
    "\n",
    "    # Make a table with the results\n",
    "    mis_val_table = pd.concat([mis_val, mis_val_percent], axis=1)\n",
    "\n",
    "    # Rename the columns\n",
    "    mis_val_table_ren_columns = mis_val_table.rename(\n",
    "    columns = {0 : 'Missing Values', 1 : '% of Total Values'})\n",
    "\n",
    "    # Sort the table by percentage of missing descending\n",
    "    mis_val_table_ren_columns = mis_val_table_ren_columns[\n",
    "        mis_val_table_ren_columns.iloc[:,1] != 0].sort_values(\n",
    "    '% of Total Values', ascending=False).round(1)\n",
    "\n",
    "    # Print some summary information\n",
    "    print (\"Your selected dataframe has \" + str(df.shape[1]) + \" columns.\\n\"      \n",
    "        \"There are \" + str(mis_val_table_ren_columns.shape[0]) +\n",
    "            \" columns that have missing values.\")\n",
    "\n",
    "    # Return the dataframe with missing information\n",
    "    return mis_val_table_ren_columns"
   ]
  },
  {
   "cell_type": "code",
   "execution_count": null,
   "metadata": {},
   "outputs": [],
   "source": [
    "# convert date to datetime \n",
    "def convert_date_time(df, col):\n",
    "    df[col] = pd.to_datetime(df[col])\n",
    "    df.sort_values(col, inplace=True)\n",
    "    \n",
    "# function to forward fill missing values    \n",
    "def fill_missing_values(df):\n",
    "    df = df.fillna(method='ffill', axis=0, inplace=True)"
   ]
  },
  {
   "cell_type": "markdown",
   "metadata": {},
   "source": [
    "##### Processing Missing Values"
   ]
  },
  {
   "cell_type": "code",
   "execution_count": null,
   "metadata": {},
   "outputs": [],
   "source": [
    "# check missing data in train\n",
    "missing_values_table(gold_recovery_train)"
   ]
  },
  {
   "cell_type": "code",
   "execution_count": null,
   "metadata": {},
   "outputs": [],
   "source": [
    "# check missing data in test\n",
    "missing_values_table(gold_recovery_test)"
   ]
  },
  {
   "cell_type": "code",
   "execution_count": null,
   "metadata": {},
   "outputs": [],
   "source": [
    "# check missing data in full data\n",
    "missing_values_table(gold_recovery_full)"
   ]
  },
  {
   "cell_type": "code",
   "execution_count": null,
   "metadata": {},
   "outputs": [],
   "source": [
    "# filling in missing value using forward fill method\n",
    "fill_missing_values(gold_recovery_train)\n",
    "fill_missing_values(gold_recovery_test)\n",
    "fill_missing_values(gold_recovery_full)"
   ]
  },
  {
   "cell_type": "code",
   "execution_count": null,
   "metadata": {},
   "outputs": [],
   "source": [
    "# re-check missing data in train dataset\n",
    "missing_values_table(gold_recovery_train)"
   ]
  },
  {
   "cell_type": "code",
   "execution_count": null,
   "metadata": {},
   "outputs": [],
   "source": [
    "# re-check missing data in test dataset\n",
    "missing_values_table(gold_recovery_test)"
   ]
  },
  {
   "cell_type": "code",
   "execution_count": null,
   "metadata": {},
   "outputs": [],
   "source": [
    "# re-check missing data in full dataset\n",
    "missing_values_table(gold_recovery_full)"
   ]
  },
  {
   "cell_type": "markdown",
   "metadata": {},
   "source": [
    "##### Process date feature"
   ]
  },
  {
   "cell_type": "code",
   "execution_count": null,
   "metadata": {},
   "outputs": [],
   "source": [
    "# process date column in dataset\n",
    "convert_date_time(gold_recovery_train, 'date')\n",
    "convert_date_time(gold_recovery_test, 'date')\n",
    "convert_date_time(gold_recovery_full, 'date')"
   ]
  },
  {
   "cell_type": "code",
   "execution_count": null,
   "metadata": {},
   "outputs": [],
   "source": [
    "# check processed date column datatype\n",
    "gold_recovery_train.dtypes"
   ]
  },
  {
   "cell_type": "markdown",
   "metadata": {},
   "source": [
    "**Conclusion**\n",
    "\n",
    "After data preprocessing, we have now filled NA/NaN values in the dataframe using the forward fill method in pandas. We rechecked to be sure that there is no more missing values in the dataset. We also processed the `date` feature by converting to the datatime datatype."
   ]
  },
  {
   "cell_type": "markdown",
   "metadata": {},
   "source": [
    "#### Conclusion"
   ]
  },
  {
   "cell_type": "markdown",
   "metadata": {},
   "source": [
    "In this section, we inspected the data and observed that the `gold_recovery_train.csv` dataset have 16,860 rows, 86 features, and 85 columns with NA's. In the `gold_recovery_test.csv` dataset, we have 5,856 rows, 52 features, and 51 columns with NA's. In the `gold_recovery_full.csv` dataset, we have 22,716 rows, 86 features, and 85 columns with NA's. We then proceeded to calculate the recovery for the `rougher.output.recovery` feature using the training set. We computed the mean absolute error between the calculated value and feature values to be 0.0. This signifies that the recovery value is calculated correctly since there is no error. We noted that thirty-four (34) features from the output and calculation parameter type were not available in the test set. We then proceeded to preprocess the NA's using the forward fill method and changed the datatype in the `date` feature to datetime. Now the data is prepared and ready for analysis."
   ]
  },
  {
   "cell_type": "markdown",
   "metadata": {},
   "source": [
    "<div id=\"analyze_the_data\">\n",
    "    <h2>Analyze the data</h2> \n",
    "</div>"
   ]
  },
  {
   "cell_type": "markdown",
   "metadata": {},
   "source": [
    "##### Distribution of concentration of metals across purification stage"
   ]
  },
  {
   "cell_type": "markdown",
   "metadata": {},
   "source": [
    "To find out how the concentrations of metals (Au, Ag, Pb) changes depending on the purification stage, we plot the distribution of concentrations across each stage."
   ]
  },
  {
   "cell_type": "code",
   "execution_count": null,
   "metadata": {},
   "outputs": [],
   "source": [
    "metals = ['au', 'ag', 'pb']\n",
    "stage_parameter = ['rougher.output.concentrate', 'primary_cleaner.output.concentrate', 'final.output.concentrate']\n",
    "xcolors = ['green', 'orange', 'dodgerblue']\n",
    "\n",
    "# function to plot distribution of concentrations\n",
    "def plot_distribution(df):\n",
    "    kwargs = dict(hist_kws={'alpha': 0.6}, kde_kws={'linewidth':2})\n",
    "    for element in metals:\n",
    "        plt.figure(figsize=(10,6), dpi=80)\n",
    "        for features, colour in zip(stage_parameter, xcolors):\n",
    "            sns.distplot(df[features+'_'+element], color=colour, label=features+'_'+element, **kwargs)\n",
    "            plt.axvline(0, c=\"r\")\n",
    "        plt.title('Distribution of ' +element+ ' concentrations across purification stage')\n",
    "        plt.xlabel('Concentration of '+element)\n",
    "        plt.legend();"
   ]
  },
  {
   "cell_type": "code",
   "execution_count": null,
   "metadata": {},
   "outputs": [],
   "source": [
    "# distribution of concentration of metals in the training set\n",
    "plot_distribution(gold_recovery_train)"
   ]
  },
  {
   "cell_type": "markdown",
   "metadata": {},
   "source": [
    "The plots above shows the distribution of concentration of metals across purification stage. Looking at the plot, we observed that the concentration of gold (au) increased from the `rougher.output` to the `final.output`. This shows that the process is functioning as it suppose to. The concentration of the other metals decreased in the case of silver (ag) or remain almost the same like lead (pb)."
   ]
  },
  {
   "cell_type": "markdown",
   "metadata": {},
   "source": [
    "##### Compare the feed particle size distributions in the training set and in the test set"
   ]
  },
  {
   "cell_type": "code",
   "execution_count": null,
   "metadata": {},
   "outputs": [],
   "source": [
    "# function to plot distribution of feed particle size\n",
    "def plot_particle_size_distribution(df):\n",
    "    kwargs = dict(hist_kws={'alpha': 0.5}, kde_kws={'linewidth':2})\n",
    "    plt.figure(figsize=(10,6), dpi=80)\n",
    "    for features, colour, labels in zip(input_feed, xcolors, xlabel_):\n",
    "        sns.distplot(features, color=colour, label=labels, **kwargs)\n",
    "        plt.axvline(0, c=\"r\")\n",
    "    plt.title('Feed particle size distribution for '+ [x.split('__', 1)[1] for x in xlabel_][0])\n",
    "    plt.xlabel('Distribution of feed particle size')\n",
    "    plt.legend();"
   ]
  },
  {
   "cell_type": "code",
   "execution_count": null,
   "metadata": {},
   "outputs": [],
   "source": [
    "input_feed = [gold_recovery_train['rougher.input.feed_size'], gold_recovery_test['rougher.input.feed_size']]\n",
    "xlabel_ = ['gold_recovery_train__rougher.input.feed_size', 'gold_recovery_test__rougher.input.feed_size']\n",
    "xcolors = ['green', 'orange']\n",
    "\n",
    "# distribution of feed particle size (rougher.input.feed_size)\n",
    "plot_particle_size_distribution(gold_recovery_train)"
   ]
  },
  {
   "cell_type": "code",
   "execution_count": null,
   "metadata": {},
   "outputs": [],
   "source": [
    "input_feed = [gold_recovery_train['primary_cleaner.input.feed_size'], gold_recovery_test['primary_cleaner.input.feed_size']]\n",
    "xlabel_ = ['gold_recovery_train__primary_cleaner.input.feed_size', 'gold_recovery_test__primary_cleaner.input.feed_size']\n",
    "xcolors = ['dodgerblue', 'orange']\n",
    "\n",
    "# distribution of feed particle size (primary_cleaner.input.feed_size)\n",
    "plot_particle_size_distribution(gold_recovery_test)"
   ]
  },
  {
   "cell_type": "markdown",
   "metadata": {},
   "source": [
    "We compared the feed particle size distribution for the training and test dataset. We can also observe that the particle size distributions are similar. The distribution do not vary significantly hence we expect the model evaluation to be correct. This means that we can train the model on the train set and test model on the test set without any significant problem."
   ]
  },
  {
   "cell_type": "markdown",
   "metadata": {},
   "source": [
    "##### Check for anomalies in total concentrations of all substances at different stages"
   ]
  },
  {
   "cell_type": "code",
   "execution_count": null,
   "metadata": {},
   "outputs": [],
   "source": [
    "# rougher.input.feed in full dataset\n",
    "gold_recovery_full['rougher.input.feed.total_concentration'] = gold_recovery_full[['rougher.input.feed_ag', 'rougher.input.feed_pb', 'rougher.input.feed_sol', 'rougher.input.feed_au']].sum(axis=1)\n",
    "\n",
    "# check for anomaly\n",
    "total_conc_stage_1 = gold_recovery_full['rougher.input.feed.total_concentration']\n",
    "plt.figure(figsize=(10,6))\n",
    "plt.hist(total_conc_stage_1, density=True, bins=100)\n",
    "# add title and axis names\n",
    "plt.xlabel('rougher.input.feed_total concentration')\n",
    "plt.ylabel('frequency')\n",
    "plt.title(\"Distribution of total concentration in raw feed\");"
   ]
  },
  {
   "cell_type": "code",
   "execution_count": null,
   "metadata": {},
   "outputs": [],
   "source": [
    "# rougher.output.concentrate in full dataset\n",
    "gold_recovery_full['rougher.output.concentrate.total_concentration'] = gold_recovery_full[['rougher.output.concentrate_ag', 'rougher.output.concentrate_pb', 'rougher.output.concentrate_sol', 'rougher.output.concentrate_au']].sum(axis=1)\n",
    "\n",
    "# check for anomaly\n",
    "total_conc_stage_2 = gold_recovery_full['rougher.output.concentrate.total_concentration']\n",
    "plt.figure(figsize=(10,6))\n",
    "plt.hist(total_conc_stage_2, density=True, bins=100)\n",
    "# add title and axis names\n",
    "plt.xlabel('rougher.output.concentrate_total concentration')\n",
    "plt.ylabel('frequency')\n",
    "plt.title(\"Distribution of total concentration in rougher concentrate\");"
   ]
  },
  {
   "cell_type": "code",
   "execution_count": null,
   "metadata": {},
   "outputs": [],
   "source": [
    "# final.output.concentrate in full dataset\n",
    "gold_recovery_full['final.output.concentrate.total_concentration'] = gold_recovery_full[['final.output.concentrate_ag', 'final.output.concentrate_pb', 'final.output.concentrate_sol', 'final.output.concentrate_au']].sum(axis=1)\n",
    "\n",
    "# check for anomaly\n",
    "total_conc_stage_3 = gold_recovery_full['final.output.concentrate.total_concentration'] \n",
    "plt.figure(figsize=(10,6))\n",
    "plt.hist(total_conc_stage_3, density=True, bins=100)\n",
    "# add title and axis names\n",
    "plt.xlabel('final.output.concentrate_total concentration')\n",
    "plt.ylabel('frequency')\n",
    "plt.title(\"Distribution of total concentration in final concentrate\");"
   ]
  },
  {
   "cell_type": "markdown",
   "metadata": {},
   "source": [
    "We sum the total concentrations of all substances at different stages in the process.i.e. the raw feed (`rougher.input.feed.total_concentration`), rougher concentrate(`rougher.output.concentrate.total_concentration`), and final concentrate(`final.output.concentrate.total_concentration`). We plotted a histogram and observed a peak in all three plots. This shows an anomaly in the data. It is strange to have total concentration around 0, so the peak is an abnormal value and we removed it by setting the threshold between 0.8 and 0.95."
   ]
  },
  {
   "cell_type": "code",
   "execution_count": 29,
   "metadata": {},
   "outputs": [
    {
     "name": "stdout",
     "output_type": "stream",
     "text": [
      "The shape of the new dataset is:  (19904, 90)\n",
      "\n"
     ]
    },
    {
     "data": {
      "text/html": [
       "<div>\n",
       "<style scoped>\n",
       "    .dataframe tbody tr th:only-of-type {\n",
       "        vertical-align: middle;\n",
       "    }\n",
       "\n",
       "    .dataframe tbody tr th {\n",
       "        vertical-align: top;\n",
       "    }\n",
       "\n",
       "    .dataframe thead th {\n",
       "        text-align: right;\n",
       "    }\n",
       "</style>\n",
       "<table border=\"1\" class=\"dataframe\">\n",
       "  <thead>\n",
       "    <tr style=\"text-align: right;\">\n",
       "      <th></th>\n",
       "      <th>final.output.concentrate_ag</th>\n",
       "      <th>final.output.concentrate_pb</th>\n",
       "      <th>final.output.concentrate_sol</th>\n",
       "      <th>final.output.concentrate_au</th>\n",
       "      <th>final.output.recovery</th>\n",
       "      <th>final.output.tail_ag</th>\n",
       "      <th>final.output.tail_pb</th>\n",
       "      <th>final.output.tail_sol</th>\n",
       "      <th>final.output.tail_au</th>\n",
       "      <th>primary_cleaner.input.sulfate</th>\n",
       "      <th>...</th>\n",
       "      <th>secondary_cleaner.state.floatbank4_b_level</th>\n",
       "      <th>secondary_cleaner.state.floatbank5_a_air</th>\n",
       "      <th>secondary_cleaner.state.floatbank5_a_level</th>\n",
       "      <th>secondary_cleaner.state.floatbank5_b_air</th>\n",
       "      <th>secondary_cleaner.state.floatbank5_b_level</th>\n",
       "      <th>secondary_cleaner.state.floatbank6_a_air</th>\n",
       "      <th>secondary_cleaner.state.floatbank6_a_level</th>\n",
       "      <th>rougher.input.feed.total_concentration</th>\n",
       "      <th>rougher.output.concentrate.total_concentration</th>\n",
       "      <th>final.output.concentrate.total_concentration</th>\n",
       "    </tr>\n",
       "  </thead>\n",
       "  <tbody>\n",
       "    <tr>\n",
       "      <th>count</th>\n",
       "      <td>19904.000000</td>\n",
       "      <td>19904.000000</td>\n",
       "      <td>19904.000000</td>\n",
       "      <td>19904.000000</td>\n",
       "      <td>19904.000000</td>\n",
       "      <td>19904.000000</td>\n",
       "      <td>19904.000000</td>\n",
       "      <td>19904.000000</td>\n",
       "      <td>19904.000000</td>\n",
       "      <td>19904.000000</td>\n",
       "      <td>...</td>\n",
       "      <td>19904.000000</td>\n",
       "      <td>19904.000000</td>\n",
       "      <td>19904.000000</td>\n",
       "      <td>19904.000000</td>\n",
       "      <td>19904.000000</td>\n",
       "      <td>19904.000000</td>\n",
       "      <td>19904.000000</td>\n",
       "      <td>19904.000000</td>\n",
       "      <td>19904.000000</td>\n",
       "      <td>19904.000000</td>\n",
       "    </tr>\n",
       "    <tr>\n",
       "      <th>mean</th>\n",
       "      <td>5.250317</td>\n",
       "      <td>10.005729</td>\n",
       "      <td>9.437927</td>\n",
       "      <td>44.024213</td>\n",
       "      <td>67.274249</td>\n",
       "      <td>9.722925</td>\n",
       "      <td>2.695731</td>\n",
       "      <td>10.405297</td>\n",
       "      <td>3.059586</td>\n",
       "      <td>143.984616</td>\n",
       "      <td>...</td>\n",
       "      <td>-461.784848</td>\n",
       "      <td>15.670516</td>\n",
       "      <td>-488.682801</td>\n",
       "      <td>12.217680</td>\n",
       "      <td>-487.183956</td>\n",
       "      <td>18.941251</td>\n",
       "      <td>-505.444267</td>\n",
       "      <td>57.056355</td>\n",
       "      <td>69.231266</td>\n",
       "      <td>68.718185</td>\n",
       "    </tr>\n",
       "    <tr>\n",
       "      <th>std</th>\n",
       "      <td>1.427628</td>\n",
       "      <td>1.575505</td>\n",
       "      <td>2.882103</td>\n",
       "      <td>4.686102</td>\n",
       "      <td>9.619950</td>\n",
       "      <td>2.396828</td>\n",
       "      <td>0.980749</td>\n",
       "      <td>3.041419</td>\n",
       "      <td>0.971711</td>\n",
       "      <td>45.810767</td>\n",
       "      <td>...</td>\n",
       "      <td>66.674388</td>\n",
       "      <td>5.510786</td>\n",
       "      <td>35.460418</td>\n",
       "      <td>5.307127</td>\n",
       "      <td>39.196781</td>\n",
       "      <td>5.541075</td>\n",
       "      <td>38.854243</td>\n",
       "      <td>7.863282</td>\n",
       "      <td>9.231440</td>\n",
       "      <td>6.498115</td>\n",
       "    </tr>\n",
       "    <tr>\n",
       "      <th>min</th>\n",
       "      <td>0.000000</td>\n",
       "      <td>0.135894</td>\n",
       "      <td>0.000000</td>\n",
       "      <td>0.225775</td>\n",
       "      <td>0.000000</td>\n",
       "      <td>0.000000</td>\n",
       "      <td>0.000000</td>\n",
       "      <td>0.000000</td>\n",
       "      <td>0.000000</td>\n",
       "      <td>0.003112</td>\n",
       "      <td>...</td>\n",
       "      <td>-800.836914</td>\n",
       "      <td>-0.372054</td>\n",
       "      <td>-797.323986</td>\n",
       "      <td>0.528083</td>\n",
       "      <td>-800.220337</td>\n",
       "      <td>-0.079426</td>\n",
       "      <td>-809.741464</td>\n",
       "      <td>0.913565</td>\n",
       "      <td>1.064979</td>\n",
       "      <td>0.835351</td>\n",
       "    </tr>\n",
       "    <tr>\n",
       "      <th>25%</th>\n",
       "      <td>4.278200</td>\n",
       "      <td>9.146978</td>\n",
       "      <td>7.629914</td>\n",
       "      <td>43.275641</td>\n",
       "      <td>63.350638</td>\n",
       "      <td>8.077092</td>\n",
       "      <td>2.023136</td>\n",
       "      <td>8.763196</td>\n",
       "      <td>2.463490</td>\n",
       "      <td>113.362840</td>\n",
       "      <td>...</td>\n",
       "      <td>-500.187016</td>\n",
       "      <td>10.988093</td>\n",
       "      <td>-500.458352</td>\n",
       "      <td>8.977880</td>\n",
       "      <td>-500.130066</td>\n",
       "      <td>14.983458</td>\n",
       "      <td>-500.739496</td>\n",
       "      <td>53.372708</td>\n",
       "      <td>66.195289</td>\n",
       "      <td>67.860212</td>\n",
       "    </tr>\n",
       "    <tr>\n",
       "      <th>50%</th>\n",
       "      <td>5.108484</td>\n",
       "      <td>10.105279</td>\n",
       "      <td>9.191454</td>\n",
       "      <td>44.936239</td>\n",
       "      <td>68.236471</td>\n",
       "      <td>9.809782</td>\n",
       "      <td>2.739593</td>\n",
       "      <td>10.527450</td>\n",
       "      <td>2.996648</td>\n",
       "      <td>143.095289</td>\n",
       "      <td>...</td>\n",
       "      <td>-499.473279</td>\n",
       "      <td>14.997593</td>\n",
       "      <td>-499.793222</td>\n",
       "      <td>11.021120</td>\n",
       "      <td>-499.934117</td>\n",
       "      <td>19.955170</td>\n",
       "      <td>-500.047765</td>\n",
       "      <td>57.549919</td>\n",
       "      <td>70.342238</td>\n",
       "      <td>69.554069</td>\n",
       "    </tr>\n",
       "    <tr>\n",
       "      <th>75%</th>\n",
       "      <td>5.952000</td>\n",
       "      <td>11.043546</td>\n",
       "      <td>10.969702</td>\n",
       "      <td>46.231796</td>\n",
       "      <td>72.741328</td>\n",
       "      <td>11.217990</td>\n",
       "      <td>3.344845</td>\n",
       "      <td>12.029298</td>\n",
       "      <td>3.588434</td>\n",
       "      <td>175.275803</td>\n",
       "      <td>...</td>\n",
       "      <td>-400.144280</td>\n",
       "      <td>18.025555</td>\n",
       "      <td>-498.348094</td>\n",
       "      <td>14.017480</td>\n",
       "      <td>-499.431386</td>\n",
       "      <td>23.991131</td>\n",
       "      <td>-499.481118</td>\n",
       "      <td>61.988720</td>\n",
       "      <td>74.598470</td>\n",
       "      <td>71.344193</td>\n",
       "    </tr>\n",
       "    <tr>\n",
       "      <th>max</th>\n",
       "      <td>16.001945</td>\n",
       "      <td>17.031899</td>\n",
       "      <td>19.615720</td>\n",
       "      <td>53.611374</td>\n",
       "      <td>100.000000</td>\n",
       "      <td>19.552149</td>\n",
       "      <td>6.086532</td>\n",
       "      <td>22.861749</td>\n",
       "      <td>9.789625</td>\n",
       "      <td>265.983123</td>\n",
       "      <td>...</td>\n",
       "      <td>-7.834746</td>\n",
       "      <td>43.709931</td>\n",
       "      <td>-244.483566</td>\n",
       "      <td>27.926001</td>\n",
       "      <td>-137.740004</td>\n",
       "      <td>32.188906</td>\n",
       "      <td>-104.427459</td>\n",
       "      <td>76.978947</td>\n",
       "      <td>90.964431</td>\n",
       "      <td>80.210644</td>\n",
       "    </tr>\n",
       "  </tbody>\n",
       "</table>\n",
       "<p>8 rows × 89 columns</p>\n",
       "</div>"
      ],
      "text/plain": [
       "       final.output.concentrate_ag  final.output.concentrate_pb  \\\n",
       "count                 19904.000000                 19904.000000   \n",
       "mean                      5.250317                    10.005729   \n",
       "std                       1.427628                     1.575505   \n",
       "min                       0.000000                     0.135894   \n",
       "25%                       4.278200                     9.146978   \n",
       "50%                       5.108484                    10.105279   \n",
       "75%                       5.952000                    11.043546   \n",
       "max                      16.001945                    17.031899   \n",
       "\n",
       "       final.output.concentrate_sol  final.output.concentrate_au  \\\n",
       "count                  19904.000000                 19904.000000   \n",
       "mean                       9.437927                    44.024213   \n",
       "std                        2.882103                     4.686102   \n",
       "min                        0.000000                     0.225775   \n",
       "25%                        7.629914                    43.275641   \n",
       "50%                        9.191454                    44.936239   \n",
       "75%                       10.969702                    46.231796   \n",
       "max                       19.615720                    53.611374   \n",
       "\n",
       "       final.output.recovery  final.output.tail_ag  final.output.tail_pb  \\\n",
       "count           19904.000000          19904.000000          19904.000000   \n",
       "mean               67.274249              9.722925              2.695731   \n",
       "std                 9.619950              2.396828              0.980749   \n",
       "min                 0.000000              0.000000              0.000000   \n",
       "25%                63.350638              8.077092              2.023136   \n",
       "50%                68.236471              9.809782              2.739593   \n",
       "75%                72.741328             11.217990              3.344845   \n",
       "max               100.000000             19.552149              6.086532   \n",
       "\n",
       "       final.output.tail_sol  final.output.tail_au  \\\n",
       "count           19904.000000          19904.000000   \n",
       "mean               10.405297              3.059586   \n",
       "std                 3.041419              0.971711   \n",
       "min                 0.000000              0.000000   \n",
       "25%                 8.763196              2.463490   \n",
       "50%                10.527450              2.996648   \n",
       "75%                12.029298              3.588434   \n",
       "max                22.861749              9.789625   \n",
       "\n",
       "       primary_cleaner.input.sulfate  ...  \\\n",
       "count                   19904.000000  ...   \n",
       "mean                      143.984616  ...   \n",
       "std                        45.810767  ...   \n",
       "min                         0.003112  ...   \n",
       "25%                       113.362840  ...   \n",
       "50%                       143.095289  ...   \n",
       "75%                       175.275803  ...   \n",
       "max                       265.983123  ...   \n",
       "\n",
       "       secondary_cleaner.state.floatbank4_b_level  \\\n",
       "count                                19904.000000   \n",
       "mean                                  -461.784848   \n",
       "std                                     66.674388   \n",
       "min                                   -800.836914   \n",
       "25%                                   -500.187016   \n",
       "50%                                   -499.473279   \n",
       "75%                                   -400.144280   \n",
       "max                                     -7.834746   \n",
       "\n",
       "       secondary_cleaner.state.floatbank5_a_air  \\\n",
       "count                              19904.000000   \n",
       "mean                                  15.670516   \n",
       "std                                    5.510786   \n",
       "min                                   -0.372054   \n",
       "25%                                   10.988093   \n",
       "50%                                   14.997593   \n",
       "75%                                   18.025555   \n",
       "max                                   43.709931   \n",
       "\n",
       "       secondary_cleaner.state.floatbank5_a_level  \\\n",
       "count                                19904.000000   \n",
       "mean                                  -488.682801   \n",
       "std                                     35.460418   \n",
       "min                                   -797.323986   \n",
       "25%                                   -500.458352   \n",
       "50%                                   -499.793222   \n",
       "75%                                   -498.348094   \n",
       "max                                   -244.483566   \n",
       "\n",
       "       secondary_cleaner.state.floatbank5_b_air  \\\n",
       "count                              19904.000000   \n",
       "mean                                  12.217680   \n",
       "std                                    5.307127   \n",
       "min                                    0.528083   \n",
       "25%                                    8.977880   \n",
       "50%                                   11.021120   \n",
       "75%                                   14.017480   \n",
       "max                                   27.926001   \n",
       "\n",
       "       secondary_cleaner.state.floatbank5_b_level  \\\n",
       "count                                19904.000000   \n",
       "mean                                  -487.183956   \n",
       "std                                     39.196781   \n",
       "min                                   -800.220337   \n",
       "25%                                   -500.130066   \n",
       "50%                                   -499.934117   \n",
       "75%                                   -499.431386   \n",
       "max                                   -137.740004   \n",
       "\n",
       "       secondary_cleaner.state.floatbank6_a_air  \\\n",
       "count                              19904.000000   \n",
       "mean                                  18.941251   \n",
       "std                                    5.541075   \n",
       "min                                   -0.079426   \n",
       "25%                                   14.983458   \n",
       "50%                                   19.955170   \n",
       "75%                                   23.991131   \n",
       "max                                   32.188906   \n",
       "\n",
       "       secondary_cleaner.state.floatbank6_a_level  \\\n",
       "count                                19904.000000   \n",
       "mean                                  -505.444267   \n",
       "std                                     38.854243   \n",
       "min                                   -809.741464   \n",
       "25%                                   -500.739496   \n",
       "50%                                   -500.047765   \n",
       "75%                                   -499.481118   \n",
       "max                                   -104.427459   \n",
       "\n",
       "       rougher.input.feed.total_concentration  \\\n",
       "count                            19904.000000   \n",
       "mean                                57.056355   \n",
       "std                                  7.863282   \n",
       "min                                  0.913565   \n",
       "25%                                 53.372708   \n",
       "50%                                 57.549919   \n",
       "75%                                 61.988720   \n",
       "max                                 76.978947   \n",
       "\n",
       "       rougher.output.concentrate.total_concentration  \\\n",
       "count                                    19904.000000   \n",
       "mean                                        69.231266   \n",
       "std                                          9.231440   \n",
       "min                                          1.064979   \n",
       "25%                                         66.195289   \n",
       "50%                                         70.342238   \n",
       "75%                                         74.598470   \n",
       "max                                         90.964431   \n",
       "\n",
       "       final.output.concentrate.total_concentration  \n",
       "count                                  19904.000000  \n",
       "mean                                      68.718185  \n",
       "std                                        6.498115  \n",
       "min                                        0.835351  \n",
       "25%                                       67.860212  \n",
       "50%                                       69.554069  \n",
       "75%                                       71.344193  \n",
       "max                                       80.210644  \n",
       "\n",
       "[8 rows x 89 columns]"
      ]
     },
     "execution_count": 29,
     "metadata": {},
     "output_type": "execute_result"
    }
   ],
   "source": [
    "# filtered full dataset without anomaly\n",
    "gold_recovery_full_data = gold_recovery_full[(gold_recovery_full['rougher.input.feed.total_concentration'] > 0.8) & \n",
    "                                        (gold_recovery_full['rougher.output.concentrate.total_concentration'] > 0.95) & \n",
    "                                        (gold_recovery_full['final.output.concentrate.total_concentration'] > 0.8)]\n",
    "print('The shape of the new dataset is: ', format(gold_recovery_full_data.shape))\n",
    "print()\n",
    "gold_recovery_full_data.describe()"
   ]
  },
  {
   "cell_type": "code",
   "execution_count": 46,
   "metadata": {},
   "outputs": [],
   "source": [
    "pd.set_option(\"display.max_rows\", None, \"display.max_columns\", None)"
   ]
  },
  {
   "cell_type": "code",
   "execution_count": 1,
   "metadata": {},
   "outputs": [
    {
     "ename": "NameError",
     "evalue": "name 'pd' is not defined",
     "output_type": "error",
     "traceback": [
      "\u001b[1;31m---------------------------------------------------------------------------\u001b[0m",
      "\u001b[1;31mNameError\u001b[0m                                 Traceback (most recent call last)",
      "\u001b[1;32m<ipython-input-1-718f3f62d4a0>\u001b[0m in \u001b[0;36m<module>\u001b[1;34m\u001b[0m\n\u001b[1;32m----> 1\u001b[1;33m \u001b[0mpd\u001b[0m\u001b[1;33m.\u001b[0m\u001b[0mreset_option\u001b[0m\u001b[1;33m(\u001b[0m\u001b[1;34m\"display.max_rows\"\u001b[0m\u001b[1;33m,\u001b[0m \u001b[1;32mNone\u001b[0m\u001b[1;33m,\u001b[0m \u001b[1;34m\"display.max_columns\"\u001b[0m\u001b[1;33m,\u001b[0m \u001b[1;32mNone\u001b[0m\u001b[1;33m)\u001b[0m\u001b[1;33m\u001b[0m\u001b[1;33m\u001b[0m\u001b[0m\n\u001b[0m",
      "\u001b[1;31mNameError\u001b[0m: name 'pd' is not defined"
     ]
    }
   ],
   "source": [
    "pd.reset_option(\"display.max_rows\", None, \"display.max_columns\", None)"
   ]
  },
  {
   "cell_type": "code",
   "execution_count": 33,
   "metadata": {},
   "outputs": [],
   "source": [
    "# make the `date` column the index\n",
    "gold_recovery_full_data = gold_recovery_full_data.set_index('date')\n",
    "gold_recovery_train = gold_recovery_train.set_index('date')\n",
    "gold_recovery_test = gold_recovery_test.set_index('date')"
   ]
  },
  {
   "cell_type": "code",
   "execution_count": 37,
   "metadata": {},
   "outputs": [],
   "source": [
    "#gold_recovery_test.head()"
   ]
  },
  {
   "cell_type": "code",
   "execution_count": 47,
   "metadata": {},
   "outputs": [
    {
     "ename": "SyntaxError",
     "evalue": "invalid syntax (<ipython-input-47-1c4488702f84>, line 2)",
     "output_type": "error",
     "traceback": [
      "\u001b[1;36m  File \u001b[1;32m\"<ipython-input-47-1c4488702f84>\"\u001b[1;36m, line \u001b[1;32m2\u001b[0m\n\u001b[1;33m    gold_recovery_train_data = gold_recovery_full_data.merge(gold_recovery_train, on='date', how='left').dropna(axis=)\u001b[0m\n\u001b[1;37m                                                                                                                     ^\u001b[0m\n\u001b[1;31mSyntaxError\u001b[0m\u001b[1;31m:\u001b[0m invalid syntax\n"
     ]
    }
   ],
   "source": [
    "# new train dataset\n",
    "gold_recovery_train_data = gold_recovery_full_data.merge(gold_recovery_train, on='date', how='left').dropna(axis=)\n",
    "#gold_recovery_full_data.loc[gold_recovery_train.index]\n",
    "gold_recovery_train_data.head()"
   ]
  },
  {
   "cell_type": "code",
   "execution_count": 45,
   "metadata": {},
   "outputs": [
    {
     "name": "stdout",
     "output_type": "stream",
     "text": [
      "Your selected dataframe has 175 columns.\n",
      "There are 86 columns that have missing values.\n"
     ]
    },
    {
     "data": {
      "text/html": [
       "<div>\n",
       "<style scoped>\n",
       "    .dataframe tbody tr th:only-of-type {\n",
       "        vertical-align: middle;\n",
       "    }\n",
       "\n",
       "    .dataframe tbody tr th {\n",
       "        vertical-align: top;\n",
       "    }\n",
       "\n",
       "    .dataframe thead th {\n",
       "        text-align: right;\n",
       "    }\n",
       "</style>\n",
       "<table border=\"1\" class=\"dataframe\">\n",
       "  <thead>\n",
       "    <tr style=\"text-align: right;\">\n",
       "      <th></th>\n",
       "      <th>Missing Values</th>\n",
       "      <th>% of Total Values</th>\n",
       "    </tr>\n",
       "  </thead>\n",
       "  <tbody>\n",
       "    <tr>\n",
       "      <th>final.output.concentrate_ag_y</th>\n",
       "      <td>5290</td>\n",
       "      <td>26.6</td>\n",
       "    </tr>\n",
       "    <tr>\n",
       "      <th>rougher.state.floatbank10_b_air_y</th>\n",
       "      <td>5290</td>\n",
       "      <td>26.6</td>\n",
       "    </tr>\n",
       "    <tr>\n",
       "      <th>rougher.state.floatbank10_f_air_y</th>\n",
       "      <td>5290</td>\n",
       "      <td>26.6</td>\n",
       "    </tr>\n",
       "    <tr>\n",
       "      <th>rougher.state.floatbank10_e_level_y</th>\n",
       "      <td>5290</td>\n",
       "      <td>26.6</td>\n",
       "    </tr>\n",
       "    <tr>\n",
       "      <th>rougher.state.floatbank10_e_air_y</th>\n",
       "      <td>5290</td>\n",
       "      <td>26.6</td>\n",
       "    </tr>\n",
       "    <tr>\n",
       "      <th>...</th>\n",
       "      <td>...</td>\n",
       "      <td>...</td>\n",
       "    </tr>\n",
       "    <tr>\n",
       "      <th>primary_cleaner.state.floatbank8_d_air_y</th>\n",
       "      <td>5290</td>\n",
       "      <td>26.6</td>\n",
       "    </tr>\n",
       "    <tr>\n",
       "      <th>primary_cleaner.state.floatbank8_c_level_y</th>\n",
       "      <td>5290</td>\n",
       "      <td>26.6</td>\n",
       "    </tr>\n",
       "    <tr>\n",
       "      <th>primary_cleaner.state.floatbank8_c_air_y</th>\n",
       "      <td>5290</td>\n",
       "      <td>26.6</td>\n",
       "    </tr>\n",
       "    <tr>\n",
       "      <th>primary_cleaner.state.floatbank8_b_level_y</th>\n",
       "      <td>5290</td>\n",
       "      <td>26.6</td>\n",
       "    </tr>\n",
       "    <tr>\n",
       "      <th>secondary_cleaner.state.floatbank6_a_level_y</th>\n",
       "      <td>5290</td>\n",
       "      <td>26.6</td>\n",
       "    </tr>\n",
       "  </tbody>\n",
       "</table>\n",
       "<p>86 rows × 2 columns</p>\n",
       "</div>"
      ],
      "text/plain": [
       "                                              Missing Values  \\\n",
       "final.output.concentrate_ag_y                           5290   \n",
       "rougher.state.floatbank10_b_air_y                       5290   \n",
       "rougher.state.floatbank10_f_air_y                       5290   \n",
       "rougher.state.floatbank10_e_level_y                     5290   \n",
       "rougher.state.floatbank10_e_air_y                       5290   \n",
       "...                                                      ...   \n",
       "primary_cleaner.state.floatbank8_d_air_y                5290   \n",
       "primary_cleaner.state.floatbank8_c_level_y              5290   \n",
       "primary_cleaner.state.floatbank8_c_air_y                5290   \n",
       "primary_cleaner.state.floatbank8_b_level_y              5290   \n",
       "secondary_cleaner.state.floatbank6_a_level_y            5290   \n",
       "\n",
       "                                              % of Total Values  \n",
       "final.output.concentrate_ag_y                              26.6  \n",
       "rougher.state.floatbank10_b_air_y                          26.6  \n",
       "rougher.state.floatbank10_f_air_y                          26.6  \n",
       "rougher.state.floatbank10_e_level_y                        26.6  \n",
       "rougher.state.floatbank10_e_air_y                          26.6  \n",
       "...                                                         ...  \n",
       "primary_cleaner.state.floatbank8_d_air_y                   26.6  \n",
       "primary_cleaner.state.floatbank8_c_level_y                 26.6  \n",
       "primary_cleaner.state.floatbank8_c_air_y                   26.6  \n",
       "primary_cleaner.state.floatbank8_b_level_y                 26.6  \n",
       "secondary_cleaner.state.floatbank6_a_level_y               26.6  \n",
       "\n",
       "[86 rows x 2 columns]"
      ]
     },
     "execution_count": 45,
     "metadata": {},
     "output_type": "execute_result"
    }
   ],
   "source": [
    "missing_values_table(gold_recovery_train_data)"
   ]
  },
  {
   "cell_type": "code",
   "execution_count": 43,
   "metadata": {},
   "outputs": [
    {
     "name": "stdout",
     "output_type": "stream",
     "text": [
      "Index(['final.output.concentrate_ag_x', 'final.output.concentrate_pb_x',\n",
      "       'final.output.concentrate_sol_x', 'final.output.concentrate_au_x',\n",
      "       'final.output.recovery_x', 'final.output.tail_ag_x',\n",
      "       'final.output.tail_pb_x', 'final.output.tail_sol_x',\n",
      "       'final.output.tail_au_x', 'primary_cleaner.input.sulfate_x',\n",
      "       ...\n",
      "       'secondary_cleaner.state.floatbank4_a_air_y',\n",
      "       'secondary_cleaner.state.floatbank4_a_level_y',\n",
      "       'secondary_cleaner.state.floatbank4_b_air_y',\n",
      "       'secondary_cleaner.state.floatbank4_b_level_y',\n",
      "       'secondary_cleaner.state.floatbank5_a_air_y',\n",
      "       'secondary_cleaner.state.floatbank5_a_level_y',\n",
      "       'secondary_cleaner.state.floatbank5_b_air_y',\n",
      "       'secondary_cleaner.state.floatbank5_b_level_y',\n",
      "       'secondary_cleaner.state.floatbank6_a_air_y',\n",
      "       'secondary_cleaner.state.floatbank6_a_level_y'],\n",
      "      dtype='object', length=175)\n"
     ]
    }
   ],
   "source": [
    "print(gold_recovery_train_data.columns)"
   ]
  },
  {
   "cell_type": "code",
   "execution_count": 38,
   "metadata": {},
   "outputs": [
    {
     "ename": "KeyError",
     "evalue": "\"[Timestamp('2016-09-02 06:59:59'), Timestamp('2016-09-02 07:59:59'), Timestamp('2016-09-02 08:59:59'), Timestamp('2016-09-02 09:59:59'), Timestamp('2016-09-04 17:59:59'), Timestamp('2016-09-04 18:59:59'), Timestamp('2016-09-04 19:59:59'), Timestamp('2016-09-04 20:59:59'), Timestamp('2016-09-04 21:59:59'), Timestamp('2016-09-04 22:59:59'), Timestamp('2016-09-04 23:59:59'), Timestamp('2016-09-05 01:59:59'), Timestamp('2016-09-05 02:59:59'), Timestamp('2016-09-05 03:59:59'), Timestamp('2016-09-05 04:59:59'), Timestamp('2016-09-05 05:59:59'), Timestamp('2016-09-05 06:59:59'), Timestamp('2016-09-05 07:59:59'), Timestamp('2016-09-05 08:59:59'), Timestamp('2016-09-05 09:59:59'), Timestamp('2016-09-05 10:59:59'), Timestamp('2016-09-05 11:59:59'), Timestamp('2016-09-05 12:59:59'), Timestamp('2016-09-05 13:59:59'), Timestamp('2016-09-05 14:59:59'), Timestamp('2016-09-05 15:59:59'), Timestamp('2016-09-05 16:59:59'), Timestamp('2016-09-05 17:59:59'), Timestamp('2016-09-05 18:59:59'), Timestamp('2016-09-05 19:59:59'), Timestamp('2016-09-05 20:59:59'), Timestamp('2016-09-05 21:59:59'), Timestamp('2016-09-05 22:59:59'), Timestamp('2016-09-05 23:59:59'), Timestamp('2016-09-06 00:59:59'), Timestamp('2016-09-06 01:59:59'), Timestamp('2016-09-06 02:59:59'), Timestamp('2016-09-06 03:59:59'), Timestamp('2016-09-06 04:59:59'), Timestamp('2016-09-06 05:59:59'), Timestamp('2016-09-06 06:59:59'), Timestamp('2016-09-06 07:59:59'), Timestamp('2016-09-06 08:59:59'), Timestamp('2016-09-06 09:59:59'), Timestamp('2016-09-06 10:59:59'), Timestamp('2016-09-06 11:59:59'), Timestamp('2016-09-06 12:59:59'), Timestamp('2016-09-06 13:59:59'), Timestamp('2016-09-06 14:59:59'), Timestamp('2016-09-06 15:59:59'), Timestamp('2016-09-06 16:59:59'), Timestamp('2016-09-06 17:59:59'), Timestamp('2016-09-06 18:59:59'), Timestamp('2016-09-06 19:59:59'), Timestamp('2016-09-06 20:59:59'), Timestamp('2016-09-06 21:59:59'), Timestamp('2016-09-06 22:59:59'), Timestamp('2016-09-06 23:59:59'), Timestamp('2016-09-07 00:59:59'), Timestamp('2016-09-07 01:59:59'), Timestamp('2016-09-07 02:59:59'), Timestamp('2016-09-07 03:59:59'), Timestamp('2016-09-07 04:59:59'), Timestamp('2016-09-07 05:59:59'), Timestamp('2016-09-07 06:59:59'), Timestamp('2016-09-07 07:59:59'), Timestamp('2016-09-07 08:59:59'), Timestamp('2016-09-07 09:59:59'), Timestamp('2016-09-07 10:59:59'), Timestamp('2016-09-07 11:59:59'), Timestamp('2016-09-07 12:59:59'), Timestamp('2016-09-07 13:59:59'), Timestamp('2016-09-07 14:59:59'), Timestamp('2016-09-08 01:59:59'), Timestamp('2016-09-08 02:59:59'), Timestamp('2016-09-08 03:59:59'), Timestamp('2016-09-11 05:59:59'), Timestamp('2016-09-11 06:59:59'), Timestamp('2016-09-11 07:59:59'), Timestamp('2016-09-11 08:59:59'), Timestamp('2016-09-11 09:59:59'), Timestamp('2016-09-11 10:59:59'), Timestamp('2016-09-11 11:59:59'), Timestamp('2016-09-11 12:59:59'), Timestamp('2016-09-11 13:59:59'), Timestamp('2016-09-11 14:59:59'), Timestamp('2016-09-11 15:59:59'), Timestamp('2016-09-11 20:59:59'), Timestamp('2016-09-11 21:59:59'), Timestamp('2016-09-11 22:59:59'), Timestamp('2016-09-11 23:59:59'), Timestamp('2016-09-12 00:59:59'), Timestamp('2016-09-12 01:59:59'), Timestamp('2016-09-13 22:59:59'), Timestamp('2016-09-13 23:59:59'), Timestamp('2016-09-14 00:59:59'), Timestamp('2016-09-14 01:59:59'), Timestamp('2016-09-14 02:59:59'), Timestamp('2016-09-14 03:59:59'), Timestamp('2016-09-14 04:59:59'), Timestamp('2016-09-14 05:59:59'), Timestamp('2016-09-14 06:59:59'), Timestamp('2016-09-14 07:59:59'), Timestamp('2016-09-14 08:59:59'), Timestamp('2016-09-14 09:59:59'), Timestamp('2016-09-14 10:59:59'), Timestamp('2016-09-14 11:59:59'), Timestamp('2016-09-14 12:59:59'), Timestamp('2016-09-14 13:59:59'), Timestamp('2016-09-14 14:59:59'), Timestamp('2016-09-14 15:59:59'), Timestamp('2016-09-14 16:59:59'), Timestamp('2016-09-14 17:59:59'), Timestamp('2016-09-16 08:59:59'), Timestamp('2016-09-16 09:59:59'), Timestamp('2016-09-16 10:59:59'), Timestamp('2016-09-16 11:59:59'), Timestamp('2016-09-16 12:59:59'), Timestamp('2016-09-21 13:59:59'), Timestamp('2016-09-22 20:59:59'), Timestamp('2016-09-22 21:59:59'), Timestamp('2016-09-22 22:59:59'), Timestamp('2016-09-22 23:59:59'), Timestamp('2016-09-23 00:59:59'), Timestamp('2016-09-23 01:59:59'), Timestamp('2016-09-23 02:59:59'), Timestamp('2016-09-23 03:59:59'), Timestamp('2016-09-23 04:59:59'), Timestamp('2016-09-23 05:59:59'), Timestamp('2016-09-23 06:59:59'), Timestamp('2016-09-23 07:59:59'), Timestamp('2016-09-23 08:59:59'), Timestamp('2016-09-23 09:59:59'), Timestamp('2016-09-23 10:59:59'), Timestamp('2016-09-23 11:59:59'), Timestamp('2016-09-23 12:59:59'), Timestamp('2016-09-23 13:59:59'), Timestamp('2016-09-23 14:59:59'), Timestamp('2016-09-23 15:59:59'), Timestamp('2016-09-23 16:59:59'), Timestamp('2016-09-23 17:59:59'), Timestamp('2016-09-23 18:59:59'), Timestamp('2016-09-23 19:59:59'), Timestamp('2016-09-23 20:59:59'), Timestamp('2016-09-23 21:59:59'), Timestamp('2016-09-23 22:59:59'), Timestamp('2016-09-23 23:59:59'), Timestamp('2016-09-24 00:59:59'), Timestamp('2016-09-24 01:59:59'), Timestamp('2016-09-24 02:59:59'), Timestamp('2016-09-24 03:59:59'), Timestamp('2016-09-24 04:59:59'), Timestamp('2016-09-24 05:59:59'), Timestamp('2016-09-24 06:59:59'), Timestamp('2016-09-24 07:59:59'), Timestamp('2016-09-24 08:59:59'), Timestamp('2016-09-24 09:59:59'), Timestamp('2016-09-24 10:59:59'), Timestamp('2016-09-24 11:59:59'), Timestamp('2016-09-24 12:59:59'), Timestamp('2016-09-24 13:59:59'), Timestamp('2016-09-24 14:59:59'), Timestamp('2016-09-24 15:59:59'), Timestamp('2016-09-24 16:59:59'), Timestamp('2016-09-24 17:59:59'), Timestamp('2016-09-24 18:59:59'), Timestamp('2016-09-24 19:59:59'), Timestamp('2016-09-24 20:59:59'), Timestamp('2016-09-24 21:59:59'), Timestamp('2016-09-24 22:59:59'), Timestamp('2016-09-24 23:59:59'), Timestamp('2016-09-25 00:59:59'), Timestamp('2016-09-25 01:59:59'), Timestamp('2016-09-25 02:59:59'), Timestamp('2016-09-25 03:59:59'), Timestamp('2016-09-25 04:59:59'), Timestamp('2016-09-25 05:59:59'), Timestamp('2016-09-25 06:59:59'), Timestamp('2016-09-25 07:59:59'), Timestamp('2016-09-25 08:59:59'), Timestamp('2016-09-25 09:59:59'), Timestamp('2016-09-25 10:59:59'), Timestamp('2016-09-25 11:59:59'), Timestamp('2016-09-25 12:59:59'), Timestamp('2016-09-25 13:59:59'), Timestamp('2016-09-25 14:59:59'), Timestamp('2016-09-25 15:59:59'), Timestamp('2016-09-25 16:59:59'), Timestamp('2016-09-25 17:59:59'), Timestamp('2016-09-25 18:59:59'), Timestamp('2016-09-25 19:59:59'), Timestamp('2016-09-25 20:59:59'), Timestamp('2016-09-25 21:59:59'), Timestamp('2016-09-25 22:59:59'), Timestamp('2016-09-25 23:59:59'), Timestamp('2016-09-26 00:59:59'), Timestamp('2016-09-26 01:59:59'), Timestamp('2016-09-26 02:59:59'), Timestamp('2016-09-26 03:59:59'), Timestamp('2016-09-26 04:59:59'), Timestamp('2016-09-26 05:59:59'), Timestamp('2016-09-26 06:59:59'), Timestamp('2016-09-26 07:59:59'), Timestamp('2016-09-26 08:59:59'), Timestamp('2016-09-26 09:59:59'), Timestamp('2016-09-26 10:59:59'), Timestamp('2016-09-26 11:59:59'), Timestamp('2016-09-26 12:59:59'), Timestamp('2016-09-26 13:59:59'), Timestamp('2016-09-26 14:59:59'), Timestamp('2016-09-26 15:59:59'), Timestamp('2016-09-26 16:59:59'), Timestamp('2016-09-26 17:59:59'), Timestamp('2016-09-26 18:59:59'), Timestamp('2016-09-26 19:59:59'), Timestamp('2016-09-26 20:59:59'), Timestamp('2016-09-26 21:59:59'), Timestamp('2016-09-26 22:59:59'), Timestamp('2016-09-26 23:59:59'), Timestamp('2016-09-27 00:59:59'), Timestamp('2016-09-27 01:59:59'), Timestamp('2016-09-27 02:59:59'), Timestamp('2016-09-27 03:59:59'), Timestamp('2016-09-27 04:59:59'), Timestamp('2016-09-27 05:59:59'), Timestamp('2016-09-27 06:59:59'), Timestamp('2016-09-27 07:59:59'), Timestamp('2016-09-27 08:59:59'), Timestamp('2016-09-27 09:59:59'), Timestamp('2016-09-27 10:59:59'), Timestamp('2016-09-27 11:59:59'), Timestamp('2016-09-27 12:59:59'), Timestamp('2016-09-27 13:59:59'), Timestamp('2016-09-27 14:59:59'), Timestamp('2016-09-27 15:59:59'), Timestamp('2016-09-27 16:59:59'), Timestamp('2016-09-27 17:59:59'), Timestamp('2016-09-27 18:59:59'), Timestamp('2016-09-27 19:59:59'), Timestamp('2016-09-27 20:59:59'), Timestamp('2016-09-27 21:59:59'), Timestamp('2016-09-27 22:59:59'), Timestamp('2016-09-27 23:59:59'), Timestamp('2016-09-28 00:59:59'), Timestamp('2016-09-28 01:59:59'), Timestamp('2016-09-28 02:59:59'), Timestamp('2016-09-28 03:59:59'), Timestamp('2016-09-28 04:59:59'), Timestamp('2016-09-28 05:59:59'), Timestamp('2016-09-28 06:59:59'), Timestamp('2016-09-28 07:59:59'), Timestamp('2016-09-28 08:59:59'), Timestamp('2016-09-28 09:59:59'), Timestamp('2016-09-28 10:59:59'), Timestamp('2016-09-28 11:59:59'), Timestamp('2016-09-28 12:59:59'), Timestamp('2016-09-28 13:59:59'), Timestamp('2016-09-28 14:59:59'), Timestamp('2016-09-28 15:59:59'), Timestamp('2016-09-28 16:59:59'), Timestamp('2016-09-28 17:59:59'), Timestamp('2016-09-28 18:59:59'), Timestamp('2016-09-28 19:59:59'), Timestamp('2016-09-28 20:59:59'), Timestamp('2016-09-28 21:59:59'), Timestamp('2016-09-28 22:59:59'), Timestamp('2016-09-28 23:59:59'), Timestamp('2016-09-29 00:59:59'), Timestamp('2016-09-29 01:59:59'), Timestamp('2016-09-29 02:59:59'), Timestamp('2016-09-29 03:59:59'), Timestamp('2016-09-29 04:59:59'), Timestamp('2016-09-29 05:59:59'), Timestamp('2016-09-29 06:59:59'), Timestamp('2016-09-29 07:59:59'), Timestamp('2016-09-29 08:59:59'), Timestamp('2016-09-29 09:59:59'), Timestamp('2016-09-29 10:59:59'), Timestamp('2016-09-29 11:59:59'), Timestamp('2016-09-29 12:59:59'), Timestamp('2016-09-29 13:59:59'), Timestamp('2016-09-29 14:59:59'), Timestamp('2016-09-30 10:59:59'), Timestamp('2016-09-30 11:59:59'), Timestamp('2016-09-30 12:59:59'), Timestamp('2016-09-30 13:59:59'), Timestamp('2016-09-30 14:59:59'), Timestamp('2016-09-30 15:59:59'), Timestamp('2016-10-10 07:59:59'), Timestamp('2016-10-10 08:59:59'), Timestamp('2016-10-10 09:59:59'), Timestamp('2016-10-10 10:59:59'), Timestamp('2016-10-10 11:59:59'), Timestamp('2016-10-10 12:59:59'), Timestamp('2016-10-10 13:59:59'), Timestamp('2016-10-10 14:59:59'), Timestamp('2016-10-24 13:59:59'), Timestamp('2016-11-01 12:59:59'), Timestamp('2016-11-01 13:59:59'), Timestamp('2016-11-01 14:59:59'), Timestamp('2016-11-01 15:59:59'), Timestamp('2016-11-01 16:59:59'), Timestamp('2016-11-01 17:59:59'), Timestamp('2016-11-01 18:59:59'), Timestamp('2016-11-06 14:59:59'), Timestamp('2016-11-10 16:59:59'), Timestamp('2016-11-10 17:59:59'), Timestamp('2016-11-10 18:59:59'), Timestamp('2016-11-10 19:59:59'), Timestamp('2016-11-10 20:59:59'), Timestamp('2016-11-10 21:59:59'), Timestamp('2016-11-10 22:59:59'), Timestamp('2016-11-11 09:59:59'), Timestamp('2016-11-11 10:59:59'), Timestamp('2016-11-19 15:59:59'), Timestamp('2016-11-25 16:59:59'), Timestamp('2016-11-26 10:59:59'), Timestamp('2016-11-26 11:59:59'), Timestamp('2016-11-26 12:59:59'), Timestamp('2016-11-26 13:59:59'), Timestamp('2016-11-26 14:59:59'), Timestamp('2016-11-26 15:59:59'), Timestamp('2016-11-26 16:59:59'), Timestamp('2016-11-26 17:59:59'), Timestamp('2016-11-26 18:59:59'), Timestamp('2016-11-26 19:59:59'), Timestamp('2016-11-30 05:59:59'), Timestamp('2016-12-09 14:59:59'), Timestamp('2016-12-22 11:59:59'), Timestamp('2016-12-22 12:59:59'), Timestamp('2016-12-22 13:59:59'), Timestamp('2016-12-22 14:59:59'), Timestamp('2016-12-23 19:59:59'), Timestamp('2017-09-04 07:59:59'), Timestamp('2017-09-04 08:59:59'), Timestamp('2017-09-04 09:59:59'), Timestamp('2017-09-04 10:59:59'), Timestamp('2017-09-04 11:59:59'), Timestamp('2017-09-04 12:59:59'), Timestamp('2017-09-04 13:59:59'), Timestamp('2017-09-04 14:59:59'), Timestamp('2017-09-04 15:59:59'), Timestamp('2017-09-04 16:59:59'), Timestamp('2017-09-04 17:59:59'), Timestamp('2017-09-04 18:59:59'), Timestamp('2017-09-04 19:59:59'), Timestamp('2017-09-04 20:59:59'), Timestamp('2017-09-04 21:59:59'), Timestamp('2017-09-04 22:59:59'), Timestamp('2017-09-04 23:59:59'), Timestamp('2017-09-05 00:59:59'), Timestamp('2017-09-05 01:59:59'), Timestamp('2017-09-05 02:59:59'), Timestamp('2017-09-05 03:59:59'), Timestamp('2017-09-05 04:59:59'), Timestamp('2017-09-05 05:59:59'), Timestamp('2017-09-05 06:59:59'), Timestamp('2017-09-05 07:59:59'), Timestamp('2017-09-05 08:59:59'), Timestamp('2017-09-05 09:59:59'), Timestamp('2017-09-05 10:59:59'), Timestamp('2017-09-05 11:59:59'), Timestamp('2017-09-05 12:59:59'), Timestamp('2017-09-05 13:59:59'), Timestamp('2017-09-05 14:59:59'), Timestamp('2017-09-05 15:59:59'), Timestamp('2017-09-05 16:59:59'), Timestamp('2017-09-05 17:59:59'), Timestamp('2017-09-05 18:59:59'), Timestamp('2017-09-05 19:59:59'), Timestamp('2017-09-05 20:59:59'), Timestamp('2017-09-05 21:59:59'), Timestamp('2017-09-05 22:59:59'), Timestamp('2017-09-05 23:59:59'), Timestamp('2017-09-06 00:59:59'), Timestamp('2017-09-06 01:59:59'), Timestamp('2017-09-06 02:59:59'), Timestamp('2017-09-06 03:59:59'), Timestamp('2017-09-06 04:59:59'), Timestamp('2017-09-06 05:59:59'), Timestamp('2017-09-06 06:59:59'), Timestamp('2017-09-06 07:59:59'), Timestamp('2017-09-06 08:59:59'), Timestamp('2017-09-06 09:59:59'), Timestamp('2017-09-06 10:59:59'), Timestamp('2017-09-06 11:59:59'), Timestamp('2017-09-06 12:59:59'), Timestamp('2017-09-06 13:59:59'), Timestamp('2017-09-06 14:59:59'), Timestamp('2017-09-06 15:59:59'), Timestamp('2017-09-06 16:59:59'), Timestamp('2017-09-06 17:59:59'), Timestamp('2017-09-06 18:59:59'), Timestamp('2017-09-06 19:59:59'), Timestamp('2017-09-06 20:59:59'), Timestamp('2017-09-06 21:59:59'), Timestamp('2017-09-06 22:59:59'), Timestamp('2017-09-06 23:59:59'), Timestamp('2017-09-07 00:59:59'), Timestamp('2017-09-07 01:59:59'), Timestamp('2017-09-07 02:59:59'), Timestamp('2017-09-07 03:59:59'), Timestamp('2017-09-07 04:59:59'), Timestamp('2017-09-07 05:59:59'), Timestamp('2017-09-07 06:59:59'), Timestamp('2017-09-07 07:59:59'), Timestamp('2017-09-07 08:59:59'), Timestamp('2017-09-07 09:59:59'), Timestamp('2017-09-07 10:59:59'), Timestamp('2017-09-07 11:59:59'), Timestamp('2017-09-07 12:59:59'), Timestamp('2017-09-07 13:59:59'), Timestamp('2017-09-07 14:59:59'), Timestamp('2017-09-07 15:59:59'), Timestamp('2017-09-07 16:59:59'), Timestamp('2017-09-07 17:59:59'), Timestamp('2017-09-07 18:59:59'), Timestamp('2017-09-07 22:59:59'), Timestamp('2017-09-08 16:59:59'), Timestamp('2017-09-11 12:59:59'), Timestamp('2017-09-11 13:59:59'), Timestamp('2017-09-22 20:59:59'), Timestamp('2017-09-22 22:59:59'), Timestamp('2017-09-22 23:59:59'), Timestamp('2017-09-23 00:59:59'), Timestamp('2017-09-23 01:59:59'), Timestamp('2017-09-26 07:59:59'), Timestamp('2017-09-26 08:59:59'), Timestamp('2017-09-26 09:59:59'), Timestamp('2017-09-26 10:59:59'), Timestamp('2017-09-26 11:59:59'), Timestamp('2017-09-26 12:59:59'), Timestamp('2017-09-26 13:59:59'), Timestamp('2017-10-06 11:59:59'), Timestamp('2017-10-06 12:59:59'), Timestamp('2017-10-06 13:59:59'), Timestamp('2017-10-06 14:59:59'), Timestamp('2017-10-06 15:59:59'), Timestamp('2017-10-06 16:59:59'), Timestamp('2017-10-06 17:59:59'), Timestamp('2017-10-06 18:59:59'), Timestamp('2017-10-06 19:59:59'), Timestamp('2017-10-06 20:59:59'), Timestamp('2017-10-06 21:59:59'), Timestamp('2017-10-06 22:59:59'), Timestamp('2017-10-06 23:59:59'), Timestamp('2017-10-07 00:59:59'), Timestamp('2017-10-07 01:59:59'), Timestamp('2017-10-07 02:59:59'), Timestamp('2017-10-07 03:59:59'), Timestamp('2017-10-07 04:59:59'), Timestamp('2017-10-07 05:59:59'), Timestamp('2017-10-08 20:59:59'), Timestamp('2017-10-08 21:59:59'), Timestamp('2017-10-08 22:59:59'), Timestamp('2017-10-12 10:59:59'), Timestamp('2017-10-12 11:59:59'), Timestamp('2017-10-12 12:59:59'), Timestamp('2017-10-12 13:59:59'), Timestamp('2017-10-12 14:59:59'), Timestamp('2017-10-12 18:59:59'), Timestamp('2017-10-12 19:59:59'), Timestamp('2017-10-12 20:59:59'), Timestamp('2017-10-13 13:59:59'), Timestamp('2017-10-14 06:59:59'), Timestamp('2017-10-14 07:59:59'), Timestamp('2017-10-14 08:59:59'), Timestamp('2017-10-14 09:59:59'), Timestamp('2017-10-14 10:59:59'), Timestamp('2017-10-17 18:59:59'), Timestamp('2017-10-17 19:59:59'), Timestamp('2017-10-17 20:59:59'), Timestamp('2017-10-17 21:59:59'), Timestamp('2017-10-17 22:59:59'), Timestamp('2017-10-21 02:59:59'), Timestamp('2017-10-21 03:59:59'), Timestamp('2017-10-22 09:59:59'), Timestamp('2017-10-22 19:59:59'), Timestamp('2017-10-23 01:59:59'), Timestamp('2017-10-23 07:59:59'), Timestamp('2017-10-23 08:59:59'), Timestamp('2017-10-23 09:59:59'), Timestamp('2017-11-01 11:59:59'), Timestamp('2017-11-05 00:59:59'), Timestamp('2017-11-05 01:59:59'), Timestamp('2017-11-05 02:59:59'), Timestamp('2017-11-05 03:59:59'), Timestamp('2017-11-07 13:59:59'), Timestamp('2017-11-07 14:59:59'), Timestamp('2017-11-07 15:59:59'), Timestamp('2017-11-07 16:59:59'), Timestamp('2017-11-07 17:59:59'), Timestamp('2017-11-07 18:59:59'), Timestamp('2017-11-07 19:59:59'), Timestamp('2017-11-07 20:59:59'), Timestamp('2017-11-18 07:59:59'), Timestamp('2017-11-18 08:59:59'), Timestamp('2017-11-19 17:59:59'), Timestamp('2017-11-19 18:59:59'), Timestamp('2017-11-19 19:59:59'), Timestamp('2017-11-19 20:59:59'), Timestamp('2017-11-19 21:59:59'), Timestamp('2017-11-19 22:59:59'), Timestamp('2017-11-29 23:59:59'), Timestamp('2017-11-30 00:59:59'), Timestamp('2017-11-30 01:59:59'), Timestamp('2017-11-30 02:59:59'), Timestamp('2017-12-04 13:59:59'), Timestamp('2017-12-04 14:59:59'), Timestamp('2017-12-04 15:59:59'), Timestamp('2017-12-04 16:59:59'), Timestamp('2017-12-04 17:59:59'), Timestamp('2017-12-04 18:59:59'), Timestamp('2017-12-06 17:59:59'), Timestamp('2017-12-06 18:59:59'), Timestamp('2017-12-06 19:59:59'), Timestamp('2017-12-06 20:59:59'), Timestamp('2017-12-06 21:59:59'), Timestamp('2017-12-06 22:59:59'), Timestamp('2017-12-06 23:59:59'), Timestamp('2017-12-07 00:59:59'), Timestamp('2017-12-07 01:59:59'), Timestamp('2017-12-07 02:59:59'), Timestamp('2017-12-12 05:59:59'), Timestamp('2017-12-16 06:59:59'), Timestamp('2017-12-16 07:59:59'), Timestamp('2017-12-16 08:59:59'), Timestamp('2017-12-16 09:59:59'), Timestamp('2017-12-16 10:59:59'), Timestamp('2017-12-16 11:59:59'), Timestamp('2017-12-16 12:59:59'), Timestamp('2017-12-16 13:59:59'), Timestamp('2017-12-16 14:59:59'), Timestamp('2017-12-16 15:59:59'), Timestamp('2017-12-16 16:59:59'), Timestamp('2017-12-16 17:59:59'), Timestamp('2017-12-16 18:59:59'), Timestamp('2017-12-16 19:59:59'), Timestamp('2017-12-16 20:59:59'), Timestamp('2017-12-16 21:59:59'), Timestamp('2017-12-16 22:59:59'), Timestamp('2017-12-16 23:59:59'), Timestamp('2017-12-17 00:59:59'), Timestamp('2017-12-17 01:59:59'), Timestamp('2017-12-17 02:59:59'), Timestamp('2017-12-17 03:59:59'), Timestamp('2017-12-17 04:59:59'), Timestamp('2017-12-17 08:59:59'), Timestamp('2017-12-17 11:59:59'), Timestamp('2017-12-17 12:59:59'), Timestamp('2017-12-25 09:59:59'), Timestamp('2017-12-25 20:59:59'), Timestamp('2017-12-25 21:59:59'), Timestamp('2017-12-25 22:59:59'), Timestamp('2017-12-26 19:59:59'), Timestamp('2017-12-26 20:59:59'), Timestamp('2017-12-26 21:59:59'), Timestamp('2017-12-26 22:59:59'), Timestamp('2017-12-26 23:59:59'), Timestamp('2017-12-27 00:59:59'), Timestamp('2017-12-27 01:59:59'), Timestamp('2017-12-27 02:59:59'), Timestamp('2017-12-27 12:59:59'), Timestamp('2017-12-27 13:59:59'), Timestamp('2017-12-27 14:59:59'), Timestamp('2017-12-27 15:59:59')] not in index\"",
     "output_type": "error",
     "traceback": [
      "\u001b[1;31m---------------------------------------------------------------------------\u001b[0m",
      "\u001b[1;31mKeyError\u001b[0m                                  Traceback (most recent call last)",
      "\u001b[1;32m<ipython-input-38-41581876d181>\u001b[0m in \u001b[0;36m<module>\u001b[1;34m\u001b[0m\n\u001b[0;32m      1\u001b[0m \u001b[1;31m# new test dataset\u001b[0m\u001b[1;33m\u001b[0m\u001b[1;33m\u001b[0m\u001b[1;33m\u001b[0m\u001b[0m\n\u001b[1;32m----> 2\u001b[1;33m \u001b[0mgold_recovery_test_data\u001b[0m \u001b[1;33m=\u001b[0m \u001b[0mgold_recovery_full_data\u001b[0m\u001b[1;33m.\u001b[0m\u001b[0mloc\u001b[0m\u001b[1;33m[\u001b[0m\u001b[0mgold_recovery_test\u001b[0m\u001b[1;33m.\u001b[0m\u001b[0mindex\u001b[0m\u001b[1;33m]\u001b[0m\u001b[1;33m\u001b[0m\u001b[1;33m\u001b[0m\u001b[0m\n\u001b[0m\u001b[0;32m      3\u001b[0m \u001b[0mgold_recovery_test_data\u001b[0m\u001b[1;33m.\u001b[0m\u001b[0mhead\u001b[0m\u001b[1;33m(\u001b[0m\u001b[1;33m)\u001b[0m\u001b[1;33m\u001b[0m\u001b[1;33m\u001b[0m\u001b[0m\n",
      "\u001b[1;32m~\\anaconda3\\lib\\site-packages\\pandas\\core\\indexing.py\u001b[0m in \u001b[0;36m__getitem__\u001b[1;34m(self, key)\u001b[0m\n\u001b[0;32m    929\u001b[0m \u001b[1;33m\u001b[0m\u001b[0m\n\u001b[0;32m    930\u001b[0m             \u001b[0mmaybe_callable\u001b[0m \u001b[1;33m=\u001b[0m \u001b[0mcom\u001b[0m\u001b[1;33m.\u001b[0m\u001b[0mapply_if_callable\u001b[0m\u001b[1;33m(\u001b[0m\u001b[0mkey\u001b[0m\u001b[1;33m,\u001b[0m \u001b[0mself\u001b[0m\u001b[1;33m.\u001b[0m\u001b[0mobj\u001b[0m\u001b[1;33m)\u001b[0m\u001b[1;33m\u001b[0m\u001b[1;33m\u001b[0m\u001b[0m\n\u001b[1;32m--> 931\u001b[1;33m             \u001b[1;32mreturn\u001b[0m \u001b[0mself\u001b[0m\u001b[1;33m.\u001b[0m\u001b[0m_getitem_axis\u001b[0m\u001b[1;33m(\u001b[0m\u001b[0mmaybe_callable\u001b[0m\u001b[1;33m,\u001b[0m \u001b[0maxis\u001b[0m\u001b[1;33m=\u001b[0m\u001b[0maxis\u001b[0m\u001b[1;33m)\u001b[0m\u001b[1;33m\u001b[0m\u001b[1;33m\u001b[0m\u001b[0m\n\u001b[0m\u001b[0;32m    932\u001b[0m \u001b[1;33m\u001b[0m\u001b[0m\n\u001b[0;32m    933\u001b[0m     \u001b[1;32mdef\u001b[0m \u001b[0m_is_scalar_access\u001b[0m\u001b[1;33m(\u001b[0m\u001b[0mself\u001b[0m\u001b[1;33m,\u001b[0m \u001b[0mkey\u001b[0m\u001b[1;33m:\u001b[0m \u001b[0mtuple\u001b[0m\u001b[1;33m)\u001b[0m\u001b[1;33m:\u001b[0m\u001b[1;33m\u001b[0m\u001b[1;33m\u001b[0m\u001b[0m\n",
      "\u001b[1;32m~\\anaconda3\\lib\\site-packages\\pandas\\core\\indexing.py\u001b[0m in \u001b[0;36m_getitem_axis\u001b[1;34m(self, key, axis)\u001b[0m\n\u001b[0;32m   1151\u001b[0m                     \u001b[1;32mraise\u001b[0m \u001b[0mValueError\u001b[0m\u001b[1;33m(\u001b[0m\u001b[1;34m\"Cannot index with multidimensional key\"\u001b[0m\u001b[1;33m)\u001b[0m\u001b[1;33m\u001b[0m\u001b[1;33m\u001b[0m\u001b[0m\n\u001b[0;32m   1152\u001b[0m \u001b[1;33m\u001b[0m\u001b[0m\n\u001b[1;32m-> 1153\u001b[1;33m                 \u001b[1;32mreturn\u001b[0m \u001b[0mself\u001b[0m\u001b[1;33m.\u001b[0m\u001b[0m_getitem_iterable\u001b[0m\u001b[1;33m(\u001b[0m\u001b[0mkey\u001b[0m\u001b[1;33m,\u001b[0m \u001b[0maxis\u001b[0m\u001b[1;33m=\u001b[0m\u001b[0maxis\u001b[0m\u001b[1;33m)\u001b[0m\u001b[1;33m\u001b[0m\u001b[1;33m\u001b[0m\u001b[0m\n\u001b[0m\u001b[0;32m   1154\u001b[0m \u001b[1;33m\u001b[0m\u001b[0m\n\u001b[0;32m   1155\u001b[0m             \u001b[1;31m# nested tuple slicing\u001b[0m\u001b[1;33m\u001b[0m\u001b[1;33m\u001b[0m\u001b[1;33m\u001b[0m\u001b[0m\n",
      "\u001b[1;32m~\\anaconda3\\lib\\site-packages\\pandas\\core\\indexing.py\u001b[0m in \u001b[0;36m_getitem_iterable\u001b[1;34m(self, key, axis)\u001b[0m\n\u001b[0;32m   1091\u001b[0m \u001b[1;33m\u001b[0m\u001b[0m\n\u001b[0;32m   1092\u001b[0m         \u001b[1;31m# A collection of keys\u001b[0m\u001b[1;33m\u001b[0m\u001b[1;33m\u001b[0m\u001b[1;33m\u001b[0m\u001b[0m\n\u001b[1;32m-> 1093\u001b[1;33m         \u001b[0mkeyarr\u001b[0m\u001b[1;33m,\u001b[0m \u001b[0mindexer\u001b[0m \u001b[1;33m=\u001b[0m \u001b[0mself\u001b[0m\u001b[1;33m.\u001b[0m\u001b[0m_get_listlike_indexer\u001b[0m\u001b[1;33m(\u001b[0m\u001b[0mkey\u001b[0m\u001b[1;33m,\u001b[0m \u001b[0maxis\u001b[0m\u001b[1;33m)\u001b[0m\u001b[1;33m\u001b[0m\u001b[1;33m\u001b[0m\u001b[0m\n\u001b[0m\u001b[0;32m   1094\u001b[0m         return self.obj._reindex_with_indexers(\n\u001b[0;32m   1095\u001b[0m             \u001b[1;33m{\u001b[0m\u001b[0maxis\u001b[0m\u001b[1;33m:\u001b[0m \u001b[1;33m[\u001b[0m\u001b[0mkeyarr\u001b[0m\u001b[1;33m,\u001b[0m \u001b[0mindexer\u001b[0m\u001b[1;33m]\u001b[0m\u001b[1;33m}\u001b[0m\u001b[1;33m,\u001b[0m \u001b[0mcopy\u001b[0m\u001b[1;33m=\u001b[0m\u001b[1;32mTrue\u001b[0m\u001b[1;33m,\u001b[0m \u001b[0mallow_dups\u001b[0m\u001b[1;33m=\u001b[0m\u001b[1;32mTrue\u001b[0m\u001b[1;33m\u001b[0m\u001b[1;33m\u001b[0m\u001b[0m\n",
      "\u001b[1;32m~\\anaconda3\\lib\\site-packages\\pandas\\core\\indexing.py\u001b[0m in \u001b[0;36m_get_listlike_indexer\u001b[1;34m(self, key, axis)\u001b[0m\n\u001b[0;32m   1312\u001b[0m             \u001b[0mkeyarr\u001b[0m\u001b[1;33m,\u001b[0m \u001b[0mindexer\u001b[0m\u001b[1;33m,\u001b[0m \u001b[0mnew_indexer\u001b[0m \u001b[1;33m=\u001b[0m \u001b[0max\u001b[0m\u001b[1;33m.\u001b[0m\u001b[0m_reindex_non_unique\u001b[0m\u001b[1;33m(\u001b[0m\u001b[0mkeyarr\u001b[0m\u001b[1;33m)\u001b[0m\u001b[1;33m\u001b[0m\u001b[1;33m\u001b[0m\u001b[0m\n\u001b[0;32m   1313\u001b[0m \u001b[1;33m\u001b[0m\u001b[0m\n\u001b[1;32m-> 1314\u001b[1;33m         \u001b[0mself\u001b[0m\u001b[1;33m.\u001b[0m\u001b[0m_validate_read_indexer\u001b[0m\u001b[1;33m(\u001b[0m\u001b[0mkeyarr\u001b[0m\u001b[1;33m,\u001b[0m \u001b[0mindexer\u001b[0m\u001b[1;33m,\u001b[0m \u001b[0maxis\u001b[0m\u001b[1;33m)\u001b[0m\u001b[1;33m\u001b[0m\u001b[1;33m\u001b[0m\u001b[0m\n\u001b[0m\u001b[0;32m   1315\u001b[0m \u001b[1;33m\u001b[0m\u001b[0m\n\u001b[0;32m   1316\u001b[0m         if needs_i8_conversion(ax.dtype) or isinstance(\n",
      "\u001b[1;32m~\\anaconda3\\lib\\site-packages\\pandas\\core\\indexing.py\u001b[0m in \u001b[0;36m_validate_read_indexer\u001b[1;34m(self, key, indexer, axis)\u001b[0m\n\u001b[0;32m   1375\u001b[0m \u001b[1;33m\u001b[0m\u001b[0m\n\u001b[0;32m   1376\u001b[0m             \u001b[0mnot_found\u001b[0m \u001b[1;33m=\u001b[0m \u001b[0mlist\u001b[0m\u001b[1;33m(\u001b[0m\u001b[0mensure_index\u001b[0m\u001b[1;33m(\u001b[0m\u001b[0mkey\u001b[0m\u001b[1;33m)\u001b[0m\u001b[1;33m[\u001b[0m\u001b[0mmissing_mask\u001b[0m\u001b[1;33m.\u001b[0m\u001b[0mnonzero\u001b[0m\u001b[1;33m(\u001b[0m\u001b[1;33m)\u001b[0m\u001b[1;33m[\u001b[0m\u001b[1;36m0\u001b[0m\u001b[1;33m]\u001b[0m\u001b[1;33m]\u001b[0m\u001b[1;33m.\u001b[0m\u001b[0munique\u001b[0m\u001b[1;33m(\u001b[0m\u001b[1;33m)\u001b[0m\u001b[1;33m)\u001b[0m\u001b[1;33m\u001b[0m\u001b[1;33m\u001b[0m\u001b[0m\n\u001b[1;32m-> 1377\u001b[1;33m             \u001b[1;32mraise\u001b[0m \u001b[0mKeyError\u001b[0m\u001b[1;33m(\u001b[0m\u001b[1;34mf\"{not_found} not in index\"\u001b[0m\u001b[1;33m)\u001b[0m\u001b[1;33m\u001b[0m\u001b[1;33m\u001b[0m\u001b[0m\n\u001b[0m\u001b[0;32m   1378\u001b[0m \u001b[1;33m\u001b[0m\u001b[0m\n\u001b[0;32m   1379\u001b[0m \u001b[1;33m\u001b[0m\u001b[0m\n",
      "\u001b[1;31mKeyError\u001b[0m: \"[Timestamp('2016-09-02 06:59:59'), Timestamp('2016-09-02 07:59:59'), Timestamp('2016-09-02 08:59:59'), Timestamp('2016-09-02 09:59:59'), Timestamp('2016-09-04 17:59:59'), Timestamp('2016-09-04 18:59:59'), Timestamp('2016-09-04 19:59:59'), Timestamp('2016-09-04 20:59:59'), Timestamp('2016-09-04 21:59:59'), Timestamp('2016-09-04 22:59:59'), Timestamp('2016-09-04 23:59:59'), Timestamp('2016-09-05 01:59:59'), Timestamp('2016-09-05 02:59:59'), Timestamp('2016-09-05 03:59:59'), Timestamp('2016-09-05 04:59:59'), Timestamp('2016-09-05 05:59:59'), Timestamp('2016-09-05 06:59:59'), Timestamp('2016-09-05 07:59:59'), Timestamp('2016-09-05 08:59:59'), Timestamp('2016-09-05 09:59:59'), Timestamp('2016-09-05 10:59:59'), Timestamp('2016-09-05 11:59:59'), Timestamp('2016-09-05 12:59:59'), Timestamp('2016-09-05 13:59:59'), Timestamp('2016-09-05 14:59:59'), Timestamp('2016-09-05 15:59:59'), Timestamp('2016-09-05 16:59:59'), Timestamp('2016-09-05 17:59:59'), Timestamp('2016-09-05 18:59:59'), Timestamp('2016-09-05 19:59:59'), Timestamp('2016-09-05 20:59:59'), Timestamp('2016-09-05 21:59:59'), Timestamp('2016-09-05 22:59:59'), Timestamp('2016-09-05 23:59:59'), Timestamp('2016-09-06 00:59:59'), Timestamp('2016-09-06 01:59:59'), Timestamp('2016-09-06 02:59:59'), Timestamp('2016-09-06 03:59:59'), Timestamp('2016-09-06 04:59:59'), Timestamp('2016-09-06 05:59:59'), Timestamp('2016-09-06 06:59:59'), Timestamp('2016-09-06 07:59:59'), Timestamp('2016-09-06 08:59:59'), Timestamp('2016-09-06 09:59:59'), Timestamp('2016-09-06 10:59:59'), Timestamp('2016-09-06 11:59:59'), Timestamp('2016-09-06 12:59:59'), Timestamp('2016-09-06 13:59:59'), Timestamp('2016-09-06 14:59:59'), Timestamp('2016-09-06 15:59:59'), Timestamp('2016-09-06 16:59:59'), Timestamp('2016-09-06 17:59:59'), Timestamp('2016-09-06 18:59:59'), Timestamp('2016-09-06 19:59:59'), Timestamp('2016-09-06 20:59:59'), Timestamp('2016-09-06 21:59:59'), Timestamp('2016-09-06 22:59:59'), Timestamp('2016-09-06 23:59:59'), Timestamp('2016-09-07 00:59:59'), Timestamp('2016-09-07 01:59:59'), Timestamp('2016-09-07 02:59:59'), Timestamp('2016-09-07 03:59:59'), Timestamp('2016-09-07 04:59:59'), Timestamp('2016-09-07 05:59:59'), Timestamp('2016-09-07 06:59:59'), Timestamp('2016-09-07 07:59:59'), Timestamp('2016-09-07 08:59:59'), Timestamp('2016-09-07 09:59:59'), Timestamp('2016-09-07 10:59:59'), Timestamp('2016-09-07 11:59:59'), Timestamp('2016-09-07 12:59:59'), Timestamp('2016-09-07 13:59:59'), Timestamp('2016-09-07 14:59:59'), Timestamp('2016-09-08 01:59:59'), Timestamp('2016-09-08 02:59:59'), Timestamp('2016-09-08 03:59:59'), Timestamp('2016-09-11 05:59:59'), Timestamp('2016-09-11 06:59:59'), Timestamp('2016-09-11 07:59:59'), Timestamp('2016-09-11 08:59:59'), Timestamp('2016-09-11 09:59:59'), Timestamp('2016-09-11 10:59:59'), Timestamp('2016-09-11 11:59:59'), Timestamp('2016-09-11 12:59:59'), Timestamp('2016-09-11 13:59:59'), Timestamp('2016-09-11 14:59:59'), Timestamp('2016-09-11 15:59:59'), Timestamp('2016-09-11 20:59:59'), Timestamp('2016-09-11 21:59:59'), Timestamp('2016-09-11 22:59:59'), Timestamp('2016-09-11 23:59:59'), Timestamp('2016-09-12 00:59:59'), Timestamp('2016-09-12 01:59:59'), Timestamp('2016-09-13 22:59:59'), Timestamp('2016-09-13 23:59:59'), Timestamp('2016-09-14 00:59:59'), Timestamp('2016-09-14 01:59:59'), Timestamp('2016-09-14 02:59:59'), Timestamp('2016-09-14 03:59:59'), Timestamp('2016-09-14 04:59:59'), Timestamp('2016-09-14 05:59:59'), Timestamp('2016-09-14 06:59:59'), Timestamp('2016-09-14 07:59:59'), Timestamp('2016-09-14 08:59:59'), Timestamp('2016-09-14 09:59:59'), Timestamp('2016-09-14 10:59:59'), Timestamp('2016-09-14 11:59:59'), Timestamp('2016-09-14 12:59:59'), Timestamp('2016-09-14 13:59:59'), Timestamp('2016-09-14 14:59:59'), Timestamp('2016-09-14 15:59:59'), Timestamp('2016-09-14 16:59:59'), Timestamp('2016-09-14 17:59:59'), Timestamp('2016-09-16 08:59:59'), Timestamp('2016-09-16 09:59:59'), Timestamp('2016-09-16 10:59:59'), Timestamp('2016-09-16 11:59:59'), Timestamp('2016-09-16 12:59:59'), Timestamp('2016-09-21 13:59:59'), Timestamp('2016-09-22 20:59:59'), Timestamp('2016-09-22 21:59:59'), Timestamp('2016-09-22 22:59:59'), Timestamp('2016-09-22 23:59:59'), Timestamp('2016-09-23 00:59:59'), Timestamp('2016-09-23 01:59:59'), Timestamp('2016-09-23 02:59:59'), Timestamp('2016-09-23 03:59:59'), Timestamp('2016-09-23 04:59:59'), Timestamp('2016-09-23 05:59:59'), Timestamp('2016-09-23 06:59:59'), Timestamp('2016-09-23 07:59:59'), Timestamp('2016-09-23 08:59:59'), Timestamp('2016-09-23 09:59:59'), Timestamp('2016-09-23 10:59:59'), Timestamp('2016-09-23 11:59:59'), Timestamp('2016-09-23 12:59:59'), Timestamp('2016-09-23 13:59:59'), Timestamp('2016-09-23 14:59:59'), Timestamp('2016-09-23 15:59:59'), Timestamp('2016-09-23 16:59:59'), Timestamp('2016-09-23 17:59:59'), Timestamp('2016-09-23 18:59:59'), Timestamp('2016-09-23 19:59:59'), Timestamp('2016-09-23 20:59:59'), Timestamp('2016-09-23 21:59:59'), Timestamp('2016-09-23 22:59:59'), Timestamp('2016-09-23 23:59:59'), Timestamp('2016-09-24 00:59:59'), Timestamp('2016-09-24 01:59:59'), Timestamp('2016-09-24 02:59:59'), Timestamp('2016-09-24 03:59:59'), Timestamp('2016-09-24 04:59:59'), Timestamp('2016-09-24 05:59:59'), Timestamp('2016-09-24 06:59:59'), Timestamp('2016-09-24 07:59:59'), Timestamp('2016-09-24 08:59:59'), Timestamp('2016-09-24 09:59:59'), Timestamp('2016-09-24 10:59:59'), Timestamp('2016-09-24 11:59:59'), Timestamp('2016-09-24 12:59:59'), Timestamp('2016-09-24 13:59:59'), Timestamp('2016-09-24 14:59:59'), Timestamp('2016-09-24 15:59:59'), Timestamp('2016-09-24 16:59:59'), Timestamp('2016-09-24 17:59:59'), Timestamp('2016-09-24 18:59:59'), Timestamp('2016-09-24 19:59:59'), Timestamp('2016-09-24 20:59:59'), Timestamp('2016-09-24 21:59:59'), Timestamp('2016-09-24 22:59:59'), Timestamp('2016-09-24 23:59:59'), Timestamp('2016-09-25 00:59:59'), Timestamp('2016-09-25 01:59:59'), Timestamp('2016-09-25 02:59:59'), Timestamp('2016-09-25 03:59:59'), Timestamp('2016-09-25 04:59:59'), Timestamp('2016-09-25 05:59:59'), Timestamp('2016-09-25 06:59:59'), Timestamp('2016-09-25 07:59:59'), Timestamp('2016-09-25 08:59:59'), Timestamp('2016-09-25 09:59:59'), Timestamp('2016-09-25 10:59:59'), Timestamp('2016-09-25 11:59:59'), Timestamp('2016-09-25 12:59:59'), Timestamp('2016-09-25 13:59:59'), Timestamp('2016-09-25 14:59:59'), Timestamp('2016-09-25 15:59:59'), Timestamp('2016-09-25 16:59:59'), Timestamp('2016-09-25 17:59:59'), Timestamp('2016-09-25 18:59:59'), Timestamp('2016-09-25 19:59:59'), Timestamp('2016-09-25 20:59:59'), Timestamp('2016-09-25 21:59:59'), Timestamp('2016-09-25 22:59:59'), Timestamp('2016-09-25 23:59:59'), Timestamp('2016-09-26 00:59:59'), Timestamp('2016-09-26 01:59:59'), Timestamp('2016-09-26 02:59:59'), Timestamp('2016-09-26 03:59:59'), Timestamp('2016-09-26 04:59:59'), Timestamp('2016-09-26 05:59:59'), Timestamp('2016-09-26 06:59:59'), Timestamp('2016-09-26 07:59:59'), Timestamp('2016-09-26 08:59:59'), Timestamp('2016-09-26 09:59:59'), Timestamp('2016-09-26 10:59:59'), Timestamp('2016-09-26 11:59:59'), Timestamp('2016-09-26 12:59:59'), Timestamp('2016-09-26 13:59:59'), Timestamp('2016-09-26 14:59:59'), Timestamp('2016-09-26 15:59:59'), Timestamp('2016-09-26 16:59:59'), Timestamp('2016-09-26 17:59:59'), Timestamp('2016-09-26 18:59:59'), Timestamp('2016-09-26 19:59:59'), Timestamp('2016-09-26 20:59:59'), Timestamp('2016-09-26 21:59:59'), Timestamp('2016-09-26 22:59:59'), Timestamp('2016-09-26 23:59:59'), Timestamp('2016-09-27 00:59:59'), Timestamp('2016-09-27 01:59:59'), Timestamp('2016-09-27 02:59:59'), Timestamp('2016-09-27 03:59:59'), Timestamp('2016-09-27 04:59:59'), Timestamp('2016-09-27 05:59:59'), Timestamp('2016-09-27 06:59:59'), Timestamp('2016-09-27 07:59:59'), Timestamp('2016-09-27 08:59:59'), Timestamp('2016-09-27 09:59:59'), Timestamp('2016-09-27 10:59:59'), Timestamp('2016-09-27 11:59:59'), Timestamp('2016-09-27 12:59:59'), Timestamp('2016-09-27 13:59:59'), Timestamp('2016-09-27 14:59:59'), Timestamp('2016-09-27 15:59:59'), Timestamp('2016-09-27 16:59:59'), Timestamp('2016-09-27 17:59:59'), Timestamp('2016-09-27 18:59:59'), Timestamp('2016-09-27 19:59:59'), Timestamp('2016-09-27 20:59:59'), Timestamp('2016-09-27 21:59:59'), Timestamp('2016-09-27 22:59:59'), Timestamp('2016-09-27 23:59:59'), Timestamp('2016-09-28 00:59:59'), Timestamp('2016-09-28 01:59:59'), Timestamp('2016-09-28 02:59:59'), Timestamp('2016-09-28 03:59:59'), Timestamp('2016-09-28 04:59:59'), Timestamp('2016-09-28 05:59:59'), Timestamp('2016-09-28 06:59:59'), Timestamp('2016-09-28 07:59:59'), Timestamp('2016-09-28 08:59:59'), Timestamp('2016-09-28 09:59:59'), Timestamp('2016-09-28 10:59:59'), Timestamp('2016-09-28 11:59:59'), Timestamp('2016-09-28 12:59:59'), Timestamp('2016-09-28 13:59:59'), Timestamp('2016-09-28 14:59:59'), Timestamp('2016-09-28 15:59:59'), Timestamp('2016-09-28 16:59:59'), Timestamp('2016-09-28 17:59:59'), Timestamp('2016-09-28 18:59:59'), Timestamp('2016-09-28 19:59:59'), Timestamp('2016-09-28 20:59:59'), Timestamp('2016-09-28 21:59:59'), Timestamp('2016-09-28 22:59:59'), Timestamp('2016-09-28 23:59:59'), Timestamp('2016-09-29 00:59:59'), Timestamp('2016-09-29 01:59:59'), Timestamp('2016-09-29 02:59:59'), Timestamp('2016-09-29 03:59:59'), Timestamp('2016-09-29 04:59:59'), Timestamp('2016-09-29 05:59:59'), Timestamp('2016-09-29 06:59:59'), Timestamp('2016-09-29 07:59:59'), Timestamp('2016-09-29 08:59:59'), Timestamp('2016-09-29 09:59:59'), Timestamp('2016-09-29 10:59:59'), Timestamp('2016-09-29 11:59:59'), Timestamp('2016-09-29 12:59:59'), Timestamp('2016-09-29 13:59:59'), Timestamp('2016-09-29 14:59:59'), Timestamp('2016-09-30 10:59:59'), Timestamp('2016-09-30 11:59:59'), Timestamp('2016-09-30 12:59:59'), Timestamp('2016-09-30 13:59:59'), Timestamp('2016-09-30 14:59:59'), Timestamp('2016-09-30 15:59:59'), Timestamp('2016-10-10 07:59:59'), Timestamp('2016-10-10 08:59:59'), Timestamp('2016-10-10 09:59:59'), Timestamp('2016-10-10 10:59:59'), Timestamp('2016-10-10 11:59:59'), Timestamp('2016-10-10 12:59:59'), Timestamp('2016-10-10 13:59:59'), Timestamp('2016-10-10 14:59:59'), Timestamp('2016-10-24 13:59:59'), Timestamp('2016-11-01 12:59:59'), Timestamp('2016-11-01 13:59:59'), Timestamp('2016-11-01 14:59:59'), Timestamp('2016-11-01 15:59:59'), Timestamp('2016-11-01 16:59:59'), Timestamp('2016-11-01 17:59:59'), Timestamp('2016-11-01 18:59:59'), Timestamp('2016-11-06 14:59:59'), Timestamp('2016-11-10 16:59:59'), Timestamp('2016-11-10 17:59:59'), Timestamp('2016-11-10 18:59:59'), Timestamp('2016-11-10 19:59:59'), Timestamp('2016-11-10 20:59:59'), Timestamp('2016-11-10 21:59:59'), Timestamp('2016-11-10 22:59:59'), Timestamp('2016-11-11 09:59:59'), Timestamp('2016-11-11 10:59:59'), Timestamp('2016-11-19 15:59:59'), Timestamp('2016-11-25 16:59:59'), Timestamp('2016-11-26 10:59:59'), Timestamp('2016-11-26 11:59:59'), Timestamp('2016-11-26 12:59:59'), Timestamp('2016-11-26 13:59:59'), Timestamp('2016-11-26 14:59:59'), Timestamp('2016-11-26 15:59:59'), Timestamp('2016-11-26 16:59:59'), Timestamp('2016-11-26 17:59:59'), Timestamp('2016-11-26 18:59:59'), Timestamp('2016-11-26 19:59:59'), Timestamp('2016-11-30 05:59:59'), Timestamp('2016-12-09 14:59:59'), Timestamp('2016-12-22 11:59:59'), Timestamp('2016-12-22 12:59:59'), Timestamp('2016-12-22 13:59:59'), Timestamp('2016-12-22 14:59:59'), Timestamp('2016-12-23 19:59:59'), Timestamp('2017-09-04 07:59:59'), Timestamp('2017-09-04 08:59:59'), Timestamp('2017-09-04 09:59:59'), Timestamp('2017-09-04 10:59:59'), Timestamp('2017-09-04 11:59:59'), Timestamp('2017-09-04 12:59:59'), Timestamp('2017-09-04 13:59:59'), Timestamp('2017-09-04 14:59:59'), Timestamp('2017-09-04 15:59:59'), Timestamp('2017-09-04 16:59:59'), Timestamp('2017-09-04 17:59:59'), Timestamp('2017-09-04 18:59:59'), Timestamp('2017-09-04 19:59:59'), Timestamp('2017-09-04 20:59:59'), Timestamp('2017-09-04 21:59:59'), Timestamp('2017-09-04 22:59:59'), Timestamp('2017-09-04 23:59:59'), Timestamp('2017-09-05 00:59:59'), Timestamp('2017-09-05 01:59:59'), Timestamp('2017-09-05 02:59:59'), Timestamp('2017-09-05 03:59:59'), Timestamp('2017-09-05 04:59:59'), Timestamp('2017-09-05 05:59:59'), Timestamp('2017-09-05 06:59:59'), Timestamp('2017-09-05 07:59:59'), Timestamp('2017-09-05 08:59:59'), Timestamp('2017-09-05 09:59:59'), Timestamp('2017-09-05 10:59:59'), Timestamp('2017-09-05 11:59:59'), Timestamp('2017-09-05 12:59:59'), Timestamp('2017-09-05 13:59:59'), Timestamp('2017-09-05 14:59:59'), Timestamp('2017-09-05 15:59:59'), Timestamp('2017-09-05 16:59:59'), Timestamp('2017-09-05 17:59:59'), Timestamp('2017-09-05 18:59:59'), Timestamp('2017-09-05 19:59:59'), Timestamp('2017-09-05 20:59:59'), Timestamp('2017-09-05 21:59:59'), Timestamp('2017-09-05 22:59:59'), Timestamp('2017-09-05 23:59:59'), Timestamp('2017-09-06 00:59:59'), Timestamp('2017-09-06 01:59:59'), Timestamp('2017-09-06 02:59:59'), Timestamp('2017-09-06 03:59:59'), Timestamp('2017-09-06 04:59:59'), Timestamp('2017-09-06 05:59:59'), Timestamp('2017-09-06 06:59:59'), Timestamp('2017-09-06 07:59:59'), Timestamp('2017-09-06 08:59:59'), Timestamp('2017-09-06 09:59:59'), Timestamp('2017-09-06 10:59:59'), Timestamp('2017-09-06 11:59:59'), Timestamp('2017-09-06 12:59:59'), Timestamp('2017-09-06 13:59:59'), Timestamp('2017-09-06 14:59:59'), Timestamp('2017-09-06 15:59:59'), Timestamp('2017-09-06 16:59:59'), Timestamp('2017-09-06 17:59:59'), Timestamp('2017-09-06 18:59:59'), Timestamp('2017-09-06 19:59:59'), Timestamp('2017-09-06 20:59:59'), Timestamp('2017-09-06 21:59:59'), Timestamp('2017-09-06 22:59:59'), Timestamp('2017-09-06 23:59:59'), Timestamp('2017-09-07 00:59:59'), Timestamp('2017-09-07 01:59:59'), Timestamp('2017-09-07 02:59:59'), Timestamp('2017-09-07 03:59:59'), Timestamp('2017-09-07 04:59:59'), Timestamp('2017-09-07 05:59:59'), Timestamp('2017-09-07 06:59:59'), Timestamp('2017-09-07 07:59:59'), Timestamp('2017-09-07 08:59:59'), Timestamp('2017-09-07 09:59:59'), Timestamp('2017-09-07 10:59:59'), Timestamp('2017-09-07 11:59:59'), Timestamp('2017-09-07 12:59:59'), Timestamp('2017-09-07 13:59:59'), Timestamp('2017-09-07 14:59:59'), Timestamp('2017-09-07 15:59:59'), Timestamp('2017-09-07 16:59:59'), Timestamp('2017-09-07 17:59:59'), Timestamp('2017-09-07 18:59:59'), Timestamp('2017-09-07 22:59:59'), Timestamp('2017-09-08 16:59:59'), Timestamp('2017-09-11 12:59:59'), Timestamp('2017-09-11 13:59:59'), Timestamp('2017-09-22 20:59:59'), Timestamp('2017-09-22 22:59:59'), Timestamp('2017-09-22 23:59:59'), Timestamp('2017-09-23 00:59:59'), Timestamp('2017-09-23 01:59:59'), Timestamp('2017-09-26 07:59:59'), Timestamp('2017-09-26 08:59:59'), Timestamp('2017-09-26 09:59:59'), Timestamp('2017-09-26 10:59:59'), Timestamp('2017-09-26 11:59:59'), Timestamp('2017-09-26 12:59:59'), Timestamp('2017-09-26 13:59:59'), Timestamp('2017-10-06 11:59:59'), Timestamp('2017-10-06 12:59:59'), Timestamp('2017-10-06 13:59:59'), Timestamp('2017-10-06 14:59:59'), Timestamp('2017-10-06 15:59:59'), Timestamp('2017-10-06 16:59:59'), Timestamp('2017-10-06 17:59:59'), Timestamp('2017-10-06 18:59:59'), Timestamp('2017-10-06 19:59:59'), Timestamp('2017-10-06 20:59:59'), Timestamp('2017-10-06 21:59:59'), Timestamp('2017-10-06 22:59:59'), Timestamp('2017-10-06 23:59:59'), Timestamp('2017-10-07 00:59:59'), Timestamp('2017-10-07 01:59:59'), Timestamp('2017-10-07 02:59:59'), Timestamp('2017-10-07 03:59:59'), Timestamp('2017-10-07 04:59:59'), Timestamp('2017-10-07 05:59:59'), Timestamp('2017-10-08 20:59:59'), Timestamp('2017-10-08 21:59:59'), Timestamp('2017-10-08 22:59:59'), Timestamp('2017-10-12 10:59:59'), Timestamp('2017-10-12 11:59:59'), Timestamp('2017-10-12 12:59:59'), Timestamp('2017-10-12 13:59:59'), Timestamp('2017-10-12 14:59:59'), Timestamp('2017-10-12 18:59:59'), Timestamp('2017-10-12 19:59:59'), Timestamp('2017-10-12 20:59:59'), Timestamp('2017-10-13 13:59:59'), Timestamp('2017-10-14 06:59:59'), Timestamp('2017-10-14 07:59:59'), Timestamp('2017-10-14 08:59:59'), Timestamp('2017-10-14 09:59:59'), Timestamp('2017-10-14 10:59:59'), Timestamp('2017-10-17 18:59:59'), Timestamp('2017-10-17 19:59:59'), Timestamp('2017-10-17 20:59:59'), Timestamp('2017-10-17 21:59:59'), Timestamp('2017-10-17 22:59:59'), Timestamp('2017-10-21 02:59:59'), Timestamp('2017-10-21 03:59:59'), Timestamp('2017-10-22 09:59:59'), Timestamp('2017-10-22 19:59:59'), Timestamp('2017-10-23 01:59:59'), Timestamp('2017-10-23 07:59:59'), Timestamp('2017-10-23 08:59:59'), Timestamp('2017-10-23 09:59:59'), Timestamp('2017-11-01 11:59:59'), Timestamp('2017-11-05 00:59:59'), Timestamp('2017-11-05 01:59:59'), Timestamp('2017-11-05 02:59:59'), Timestamp('2017-11-05 03:59:59'), Timestamp('2017-11-07 13:59:59'), Timestamp('2017-11-07 14:59:59'), Timestamp('2017-11-07 15:59:59'), Timestamp('2017-11-07 16:59:59'), Timestamp('2017-11-07 17:59:59'), Timestamp('2017-11-07 18:59:59'), Timestamp('2017-11-07 19:59:59'), Timestamp('2017-11-07 20:59:59'), Timestamp('2017-11-18 07:59:59'), Timestamp('2017-11-18 08:59:59'), Timestamp('2017-11-19 17:59:59'), Timestamp('2017-11-19 18:59:59'), Timestamp('2017-11-19 19:59:59'), Timestamp('2017-11-19 20:59:59'), Timestamp('2017-11-19 21:59:59'), Timestamp('2017-11-19 22:59:59'), Timestamp('2017-11-29 23:59:59'), Timestamp('2017-11-30 00:59:59'), Timestamp('2017-11-30 01:59:59'), Timestamp('2017-11-30 02:59:59'), Timestamp('2017-12-04 13:59:59'), Timestamp('2017-12-04 14:59:59'), Timestamp('2017-12-04 15:59:59'), Timestamp('2017-12-04 16:59:59'), Timestamp('2017-12-04 17:59:59'), Timestamp('2017-12-04 18:59:59'), Timestamp('2017-12-06 17:59:59'), Timestamp('2017-12-06 18:59:59'), Timestamp('2017-12-06 19:59:59'), Timestamp('2017-12-06 20:59:59'), Timestamp('2017-12-06 21:59:59'), Timestamp('2017-12-06 22:59:59'), Timestamp('2017-12-06 23:59:59'), Timestamp('2017-12-07 00:59:59'), Timestamp('2017-12-07 01:59:59'), Timestamp('2017-12-07 02:59:59'), Timestamp('2017-12-12 05:59:59'), Timestamp('2017-12-16 06:59:59'), Timestamp('2017-12-16 07:59:59'), Timestamp('2017-12-16 08:59:59'), Timestamp('2017-12-16 09:59:59'), Timestamp('2017-12-16 10:59:59'), Timestamp('2017-12-16 11:59:59'), Timestamp('2017-12-16 12:59:59'), Timestamp('2017-12-16 13:59:59'), Timestamp('2017-12-16 14:59:59'), Timestamp('2017-12-16 15:59:59'), Timestamp('2017-12-16 16:59:59'), Timestamp('2017-12-16 17:59:59'), Timestamp('2017-12-16 18:59:59'), Timestamp('2017-12-16 19:59:59'), Timestamp('2017-12-16 20:59:59'), Timestamp('2017-12-16 21:59:59'), Timestamp('2017-12-16 22:59:59'), Timestamp('2017-12-16 23:59:59'), Timestamp('2017-12-17 00:59:59'), Timestamp('2017-12-17 01:59:59'), Timestamp('2017-12-17 02:59:59'), Timestamp('2017-12-17 03:59:59'), Timestamp('2017-12-17 04:59:59'), Timestamp('2017-12-17 08:59:59'), Timestamp('2017-12-17 11:59:59'), Timestamp('2017-12-17 12:59:59'), Timestamp('2017-12-25 09:59:59'), Timestamp('2017-12-25 20:59:59'), Timestamp('2017-12-25 21:59:59'), Timestamp('2017-12-25 22:59:59'), Timestamp('2017-12-26 19:59:59'), Timestamp('2017-12-26 20:59:59'), Timestamp('2017-12-26 21:59:59'), Timestamp('2017-12-26 22:59:59'), Timestamp('2017-12-26 23:59:59'), Timestamp('2017-12-27 00:59:59'), Timestamp('2017-12-27 01:59:59'), Timestamp('2017-12-27 02:59:59'), Timestamp('2017-12-27 12:59:59'), Timestamp('2017-12-27 13:59:59'), Timestamp('2017-12-27 14:59:59'), Timestamp('2017-12-27 15:59:59')] not in index\""
     ]
    }
   ],
   "source": [
    "# new test dataset\n",
    "gold_recovery_test_data = gold_recovery_full_data.loc[gold_recovery_test.index]\n",
    "gold_recovery_test_data.head()"
   ]
  },
  {
   "cell_type": "code",
   "execution_count": null,
   "metadata": {},
   "outputs": [],
   "source": [
    "# # rougher.input.feed\n",
    "# total_conc_stage_1 = gold_recovery_test_full[['rougher.input.feed_ag', 'rougher.input.feed_pb', 'rougher.input.feed_sol', 'rougher.input.feed_au']]\n",
    "# total_conc_stage_1.head()"
   ]
  },
  {
   "cell_type": "code",
   "execution_count": null,
   "metadata": {},
   "outputs": [],
   "source": [
    "# total_conc_stage_1.plot(kind='box')"
   ]
  },
  {
   "cell_type": "code",
   "execution_count": null,
   "metadata": {},
   "outputs": [],
   "source": [
    "# # rougher.output.concentrate\n",
    "# total_conc_stage_2 = gold_recovery_test_full[['rougher.output.concentrate_ag', 'rougher.output.concentrate_pb', 'rougher.output.concentrate_sol', 'rougher.output.concentrate_au']]\n",
    "# total_conc_stage_2.head()"
   ]
  },
  {
   "cell_type": "code",
   "execution_count": null,
   "metadata": {},
   "outputs": [],
   "source": [
    "# total_conc_stage_2.plot(kind='box')"
   ]
  },
  {
   "cell_type": "code",
   "execution_count": null,
   "metadata": {},
   "outputs": [],
   "source": [
    "# # final.output.concentrate\n",
    "# total_conc_stage_3 = gold_recovery_test_full[['final.output.concentrate_ag', 'final.output.concentrate_pb', 'final.output.concentrate_sol', 'final.output.concentrate_au',]]\n",
    "# total_conc_stage_3.head()"
   ]
  },
  {
   "cell_type": "code",
   "execution_count": null,
   "metadata": {},
   "outputs": [],
   "source": [
    "# total_conc_stage_3.plot(kind='box')"
   ]
  },
  {
   "cell_type": "markdown",
   "metadata": {},
   "source": [
    "<div id=\"build_the_model\">\n",
    "    <h2>Build the model</h2> \n",
    "</div>"
   ]
  },
  {
   "cell_type": "code",
   "execution_count": null,
   "metadata": {},
   "outputs": [],
   "source": []
  },
  {
   "cell_type": "code",
   "execution_count": null,
   "metadata": {},
   "outputs": [],
   "source": []
  },
  {
   "cell_type": "code",
   "execution_count": null,
   "metadata": {},
   "outputs": [],
   "source": []
  },
  {
   "cell_type": "code",
   "execution_count": null,
   "metadata": {},
   "outputs": [],
   "source": []
  },
  {
   "cell_type": "code",
   "execution_count": null,
   "metadata": {},
   "outputs": [],
   "source": []
  },
  {
   "cell_type": "code",
   "execution_count": null,
   "metadata": {},
   "outputs": [],
   "source": []
  },
  {
   "cell_type": "markdown",
   "metadata": {},
   "source": [
    "<div id=\"overall_conclusion\">\n",
    "    <h2>Overall conclusion</h2> \n",
    "</div>"
   ]
  },
  {
   "cell_type": "markdown",
   "metadata": {},
   "source": [
    "We need to predict two values:\n",
    "- rougher concentrate recovery `rougher.output.recovery`\n",
    "- final concentrate recovery `final.output.recovery`"
   ]
  },
  {
   "cell_type": "code",
   "execution_count": null,
   "metadata": {},
   "outputs": [],
   "source": [
    "# function to calculate sMAPE\n",
    "def smape(rougher_true, rougher_predictions, final_true, final_predictions):\n",
    "    rougher_smape = 100/len(rougher_true) * np.sum(2 * np.abs(rougher_true - rougher_predictions) / (np.abs(rougher_true) + np.abs(rougher_predictions)))\n",
    "    final_smape = 100/len(final_true) * np.sum(2 * np.abs(final_true - final_predictions) / (np.abs(final_true) + np.abs(final_predictions)))\n",
    "    return (.25 * rougher_smape) + (.75 * final_smape)"
   ]
  }
 ],
 "metadata": {
  "kernelspec": {
   "display_name": "Python 3",
   "language": "python",
   "name": "python3"
  },
  "language_info": {
   "codemirror_mode": {
    "name": "ipython",
    "version": 3
   },
   "file_extension": ".py",
   "mimetype": "text/x-python",
   "name": "python",
   "nbconvert_exporter": "python",
   "pygments_lexer": "ipython3",
   "version": "3.8.5"
  }
 },
 "nbformat": 4,
 "nbformat_minor": 4
}
